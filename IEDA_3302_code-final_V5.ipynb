{
 "cells": [
  {
   "cell_type": "markdown",
   "metadata": {},
   "source": [
    "# IEDA3302 Group 10 Final Project (Spring, 2022) "
   ]
  },
  {
   "cell_type": "markdown",
   "metadata": {},
   "source": [
    "# 1. Background and project target (Iris)\n"
   ]
  },
  {
   "attachments": {
    "Wayfair.png": {
     "image/png": "[encoded data removed]"
    }
   },
   "cell_type": "markdown",
   "metadata": {},
   "source": [
    "![Wayfair.png](attachment:Wayfair.png)"
   ]
  },
  {
   "cell_type": "markdown",
   "metadata": {},
   "source": [
    "<b>We choose 'Wayfair' to analyze, it is an American e-commerce company founded in 2002 that sells furniture and home goods. It offers 14 million items from more than 11,000 global suppliers.<br>\n",
    "We first get the internal factors of the company which may have affect the overall performance and then combine them with the external factors to build our model and find the best features (for instance advertisments). <br>\n",
    "As most e-commerce companies’ customers and active users who would constantly do web searches and get onto social networking sites such as Google and Facebook to share information. Therefore, we also study the market trends by analysing 'google trend data' and use them to compare and give more suggestions on the previous findings generated by the internal and external factors. </b>"
   ]
  },
  {
   "cell_type": "code",
   "execution_count": 1,
   "metadata": {},
   "outputs": [],
   "source": [
    "# import libraries\n",
    "import numpy as np\n",
    "import pandas as pd\n",
    "from sklearn import linear_model\n",
    "from sklearn.linear_model import LinearRegression\n",
    "from sklearn.model_selection import train_test_split, KFold\n",
    "from sklearn.metrics import mean_squared_error\n",
    "from sklearn import linear_model, metrics, feature_extraction\n",
    "import matplotlib.pyplot as plt\n",
    "from datetime import datetime, timedelta, date\n",
    "import time\n",
    "from itertools import combinations\n",
    "from sklearn.utils import shuffle\n",
    "from sklearn.metrics import confusion_matrix\n",
    "from sklearn.metrics import roc_curve, auc\n",
    "import seaborn as sns"
   ]
  },
  {
   "cell_type": "markdown",
   "metadata": {},
   "source": [
    "# 2. Data Processing (Iris)\n",
    "For this part, we will input all the datasets we obtained and do the cleansing and adjustment to make all the datasets tidy and usable for later analysis.\n",
    "\n",
    "These datasets include :<br>\n",
    "[1] Wayfair's quarterly report. Which are given by Wayfair and are meant to be the internal factors that affect Wayfair. <br>\n",
    "[2] The US indicators. They were used for stabilizing the prediction. We obtained them online and they are meant to be the external factors that affect Wayfair."
   ]
  },
  {
   "cell_type": "markdown",
   "metadata": {},
   "source": [
    "## 2.1 Wayfair internal data\n",
    "Firstly, we input the Wayfair internal data, and fix this dataset."
   ]
  },
  {
   "cell_type": "markdown",
   "metadata": {},
   "source": [
    "### 2.1.1 Data input\n",
    "We have downloaded the data to be csv, which is from https://www.businessofapps.com/data/wayfair-statistics/. "
   ]
  },
  {
   "cell_type": "code",
   "execution_count": 2,
   "metadata": {},
   "outputs": [
    {
     "data": {
      "text/plain": [
       "DATE            object\n",
       "REVENUE          int64\n",
       "US               int64\n",
       "WORLD            int64\n",
       "ADVERTISING      int64\n",
       "ACTIVE USER    float64\n",
       "dtype: object"
      ]
     },
     "execution_count": 2,
     "metadata": {},
     "output_type": "execute_result"
    }
   ],
   "source": [
    "# Set display options\n",
    "pd.options.display.max_rows, pd.options.display.max_columns = 30, 50\n",
    "\n",
    "# Importing data from csv\n",
    "wayfair_quarterly_data = pd.read_csv('Wayfair_quarterly_report.csv')\n",
    "wayfair_quarterly_data.dtypes\n",
    "# Load Wayfair quarterly data"
   ]
  },
  {
   "cell_type": "code",
   "execution_count": 3,
   "metadata": {},
   "outputs": [
    {
     "data": {
      "text/html": [
       "<div>\n",
       "<style scoped>\n",
       "    .dataframe tbody tr th:only-of-type {\n",
       "        vertical-align: middle;\n",
       "    }\n",
       "\n",
       "    .dataframe tbody tr th {\n",
       "        vertical-align: top;\n",
       "    }\n",
       "\n",
       "    .dataframe thead th {\n",
       "        text-align: right;\n",
       "    }\n",
       "</style>\n",
       "<table border=\"1\" class=\"dataframe\">\n",
       "  <thead>\n",
       "    <tr style=\"text-align: right;\">\n",
       "      <th></th>\n",
       "      <th>DATE</th>\n",
       "      <th>REVENUE</th>\n",
       "      <th>US</th>\n",
       "      <th>WORLD</th>\n",
       "      <th>ADVERTISING</th>\n",
       "      <th>ACTIVE USER</th>\n",
       "    </tr>\n",
       "  </thead>\n",
       "  <tbody>\n",
       "    <tr>\n",
       "      <th>0</th>\n",
       "      <td>1/1/2014</td>\n",
       "      <td>279</td>\n",
       "      <td>279</td>\n",
       "      <td>0</td>\n",
       "      <td>44</td>\n",
       "      <td>NaN</td>\n",
       "    </tr>\n",
       "    <tr>\n",
       "      <th>1</th>\n",
       "      <td>4/1/2014</td>\n",
       "      <td>295</td>\n",
       "      <td>295</td>\n",
       "      <td>0</td>\n",
       "      <td>43</td>\n",
       "      <td>NaN</td>\n",
       "    </tr>\n",
       "    <tr>\n",
       "      <th>2</th>\n",
       "      <td>7/1/2014</td>\n",
       "      <td>336</td>\n",
       "      <td>336</td>\n",
       "      <td>0</td>\n",
       "      <td>50</td>\n",
       "      <td>NaN</td>\n",
       "    </tr>\n",
       "    <tr>\n",
       "      <th>3</th>\n",
       "      <td>10/1/2014</td>\n",
       "      <td>409</td>\n",
       "      <td>409</td>\n",
       "      <td>0</td>\n",
       "      <td>55</td>\n",
       "      <td>NaN</td>\n",
       "    </tr>\n",
       "    <tr>\n",
       "      <th>4</th>\n",
       "      <td>1/1/2015</td>\n",
       "      <td>424</td>\n",
       "      <td>424</td>\n",
       "      <td>0</td>\n",
       "      <td>58</td>\n",
       "      <td>NaN</td>\n",
       "    </tr>\n",
       "    <tr>\n",
       "      <th>...</th>\n",
       "      <td>...</td>\n",
       "      <td>...</td>\n",
       "      <td>...</td>\n",
       "      <td>...</td>\n",
       "      <td>...</td>\n",
       "      <td>...</td>\n",
       "    </tr>\n",
       "    <tr>\n",
       "      <th>27</th>\n",
       "      <td>10/1/2020</td>\n",
       "      <td>3671</td>\n",
       "      <td>2999</td>\n",
       "      <td>672</td>\n",
       "      <td>374</td>\n",
       "      <td>31.2</td>\n",
       "    </tr>\n",
       "    <tr>\n",
       "      <th>28</th>\n",
       "      <td>1/1/2021</td>\n",
       "      <td>3478</td>\n",
       "      <td>2821</td>\n",
       "      <td>657</td>\n",
       "      <td>366</td>\n",
       "      <td>33.2</td>\n",
       "    </tr>\n",
       "    <tr>\n",
       "      <th>29</th>\n",
       "      <td>4/1/2021</td>\n",
       "      <td>3858</td>\n",
       "      <td>3098</td>\n",
       "      <td>760</td>\n",
       "      <td>352</td>\n",
       "      <td>31.1</td>\n",
       "    </tr>\n",
       "    <tr>\n",
       "      <th>30</th>\n",
       "      <td>7/1/2021</td>\n",
       "      <td>3121</td>\n",
       "      <td>2595</td>\n",
       "      <td>526</td>\n",
       "      <td>315</td>\n",
       "      <td>29.2</td>\n",
       "    </tr>\n",
       "    <tr>\n",
       "      <th>31</th>\n",
       "      <td>10/1/2021</td>\n",
       "      <td>3252</td>\n",
       "      <td>2735</td>\n",
       "      <td>517</td>\n",
       "      <td>345</td>\n",
       "      <td>27.3</td>\n",
       "    </tr>\n",
       "  </tbody>\n",
       "</table>\n",
       "<p>32 rows × 6 columns</p>\n",
       "</div>"
      ],
      "text/plain": [
       "         DATE  REVENUE    US  WORLD  ADVERTISING  ACTIVE USER\n",
       "0    1/1/2014      279   279      0           44          NaN\n",
       "1    4/1/2014      295   295      0           43          NaN\n",
       "2    7/1/2014      336   336      0           50          NaN\n",
       "3   10/1/2014      409   409      0           55          NaN\n",
       "4    1/1/2015      424   424      0           58          NaN\n",
       "..        ...      ...   ...    ...          ...          ...\n",
       "27  10/1/2020     3671  2999    672          374         31.2\n",
       "28   1/1/2021     3478  2821    657          366         33.2\n",
       "29   4/1/2021     3858  3098    760          352         31.1\n",
       "30   7/1/2021     3121  2595    526          315         29.2\n",
       "31  10/1/2021     3252  2735    517          345         27.3\n",
       "\n",
       "[32 rows x 6 columns]"
      ]
     },
     "execution_count": 3,
     "metadata": {},
     "output_type": "execute_result"
    }
   ],
   "source": [
    "#Display the dataset\n",
    "wayfair_quarterly_data"
   ]
  },
  {
   "cell_type": "markdown",
   "metadata": {},
   "source": [
    "The dataset is a 32* 6 table, including 5 features, including revenue, revenue in US, revenue in rest of the world, advertising cost, active user.  \n",
    "\n",
    "Since there are NaN data in the wayfair_quarterly_data. We try to use substitute something to the empty data."
   ]
  },
  {
   "cell_type": "markdown",
   "metadata": {},
   "source": [
    "## 2.1.2 Mean Substitution Approach\n",
    "Firstly, we use the mean of the features to substitue the NaN data for and plot the data. "
   ]
  },
  {
   "cell_type": "code",
   "execution_count": 4,
   "metadata": {},
   "outputs": [
    {
     "data": {
      "text/html": [
       "<div>\n",
       "<style scoped>\n",
       "    .dataframe tbody tr th:only-of-type {\n",
       "        vertical-align: middle;\n",
       "    }\n",
       "\n",
       "    .dataframe tbody tr th {\n",
       "        vertical-align: top;\n",
       "    }\n",
       "\n",
       "    .dataframe thead th {\n",
       "        text-align: right;\n",
       "    }\n",
       "</style>\n",
       "<table border=\"1\" class=\"dataframe\">\n",
       "  <thead>\n",
       "    <tr style=\"text-align: right;\">\n",
       "      <th></th>\n",
       "      <th>DATE</th>\n",
       "      <th>REVENUE</th>\n",
       "      <th>US</th>\n",
       "      <th>WORLD</th>\n",
       "      <th>ADVERTISING</th>\n",
       "      <th>ACTIVE USER</th>\n",
       "    </tr>\n",
       "  </thead>\n",
       "  <tbody>\n",
       "    <tr>\n",
       "      <th>0</th>\n",
       "      <td>1/1/2014</td>\n",
       "      <td>279</td>\n",
       "      <td>279</td>\n",
       "      <td>0</td>\n",
       "      <td>44</td>\n",
       "      <td>19.745</td>\n",
       "    </tr>\n",
       "    <tr>\n",
       "      <th>1</th>\n",
       "      <td>4/1/2014</td>\n",
       "      <td>295</td>\n",
       "      <td>295</td>\n",
       "      <td>0</td>\n",
       "      <td>43</td>\n",
       "      <td>19.745</td>\n",
       "    </tr>\n",
       "    <tr>\n",
       "      <th>2</th>\n",
       "      <td>7/1/2014</td>\n",
       "      <td>336</td>\n",
       "      <td>336</td>\n",
       "      <td>0</td>\n",
       "      <td>50</td>\n",
       "      <td>19.745</td>\n",
       "    </tr>\n",
       "    <tr>\n",
       "      <th>3</th>\n",
       "      <td>10/1/2014</td>\n",
       "      <td>409</td>\n",
       "      <td>409</td>\n",
       "      <td>0</td>\n",
       "      <td>55</td>\n",
       "      <td>19.745</td>\n",
       "    </tr>\n",
       "    <tr>\n",
       "      <th>4</th>\n",
       "      <td>1/1/2015</td>\n",
       "      <td>424</td>\n",
       "      <td>424</td>\n",
       "      <td>0</td>\n",
       "      <td>58</td>\n",
       "      <td>19.745</td>\n",
       "    </tr>\n",
       "    <tr>\n",
       "      <th>...</th>\n",
       "      <td>...</td>\n",
       "      <td>...</td>\n",
       "      <td>...</td>\n",
       "      <td>...</td>\n",
       "      <td>...</td>\n",
       "      <td>...</td>\n",
       "    </tr>\n",
       "    <tr>\n",
       "      <th>27</th>\n",
       "      <td>10/1/2020</td>\n",
       "      <td>3671</td>\n",
       "      <td>2999</td>\n",
       "      <td>672</td>\n",
       "      <td>374</td>\n",
       "      <td>31.200</td>\n",
       "    </tr>\n",
       "    <tr>\n",
       "      <th>28</th>\n",
       "      <td>1/1/2021</td>\n",
       "      <td>3478</td>\n",
       "      <td>2821</td>\n",
       "      <td>657</td>\n",
       "      <td>366</td>\n",
       "      <td>33.200</td>\n",
       "    </tr>\n",
       "    <tr>\n",
       "      <th>29</th>\n",
       "      <td>4/1/2021</td>\n",
       "      <td>3858</td>\n",
       "      <td>3098</td>\n",
       "      <td>760</td>\n",
       "      <td>352</td>\n",
       "      <td>31.100</td>\n",
       "    </tr>\n",
       "    <tr>\n",
       "      <th>30</th>\n",
       "      <td>7/1/2021</td>\n",
       "      <td>3121</td>\n",
       "      <td>2595</td>\n",
       "      <td>526</td>\n",
       "      <td>315</td>\n",
       "      <td>29.200</td>\n",
       "    </tr>\n",
       "    <tr>\n",
       "      <th>31</th>\n",
       "      <td>10/1/2021</td>\n",
       "      <td>3252</td>\n",
       "      <td>2735</td>\n",
       "      <td>517</td>\n",
       "      <td>345</td>\n",
       "      <td>27.300</td>\n",
       "    </tr>\n",
       "  </tbody>\n",
       "</table>\n",
       "<p>32 rows × 6 columns</p>\n",
       "</div>"
      ],
      "text/plain": [
       "         DATE  REVENUE    US  WORLD  ADVERTISING  ACTIVE USER\n",
       "0    1/1/2014      279   279      0           44       19.745\n",
       "1    4/1/2014      295   295      0           43       19.745\n",
       "2    7/1/2014      336   336      0           50       19.745\n",
       "3   10/1/2014      409   409      0           55       19.745\n",
       "4    1/1/2015      424   424      0           58       19.745\n",
       "..        ...      ...   ...    ...          ...          ...\n",
       "27  10/1/2020     3671  2999    672          374       31.200\n",
       "28   1/1/2021     3478  2821    657          366       33.200\n",
       "29   4/1/2021     3858  3098    760          352       31.100\n",
       "30   7/1/2021     3121  2595    526          315       29.200\n",
       "31  10/1/2021     3252  2735    517          345       27.300\n",
       "\n",
       "[32 rows x 6 columns]"
      ]
     },
     "execution_count": 4,
     "metadata": {},
     "output_type": "execute_result"
    }
   ],
   "source": [
    "#Calculate the mean for the NaN data\n",
    "errorframe = wayfair_quarterly_data\n",
    "ACTIVE_USER_col = errorframe['ACTIVE USER']\n",
    "errorframe[['ACTIVE USER']] = errorframe[['ACTIVE USER']].fillna(errorframe[['ACTIVE USER']].mean())\n",
    "errorframe"
   ]
  },
  {
   "cell_type": "code",
   "execution_count": 5,
   "metadata": {},
   "outputs": [
    {
     "data": {
      "image/png": "[encoded data removed]",
      "text/plain": [
       "<Figure size 864x720 with 1 Axes>"
      ]
     },
     "metadata": {
      "needs_background": "light"
     },
     "output_type": "display_data"
    }
   ],
   "source": [
    "# Visualizating the method\n",
    "\n",
    "d = pd.to_datetime(errorframe.DATE)\n",
    "x = np.array(d, ndmin=2).T\n",
    "y = np.array(errorframe[['ACTIVE USER']])\n",
    "\n",
    "# plotting\n",
    "plt.figure(figsize=(12,10))\n",
    "plt.title(\"Active user trend from 2014 to 2021\")\n",
    "plt.xlabel(\" Years \")\n",
    "plt.ylabel(\"Active User Number\")\n",
    "plt.plot(x, y, color ='darkmagenta',linewidth=4)\n",
    "plt.show()"
   ]
  },
  {
   "cell_type": "markdown",
   "metadata": {},
   "source": [
    "From the graph above we can see it turns out the approach is not a good since the active user should increase by time.\n",
    "So we think of another approach."
   ]
  },
  {
   "cell_type": "markdown",
   "metadata": {},
   "source": [
    "## 2.1.3 LinearRegression Approach\n",
    "Secondly, we use linear regression to predict the NaN data and plot the result."
   ]
  },
  {
   "cell_type": "code",
   "execution_count": 6,
   "metadata": {},
   "outputs": [
    {
     "data": {
      "text/html": [
       "<div>\n",
       "<style scoped>\n",
       "    .dataframe tbody tr th:only-of-type {\n",
       "        vertical-align: middle;\n",
       "    }\n",
       "\n",
       "    .dataframe tbody tr th {\n",
       "        vertical-align: top;\n",
       "    }\n",
       "\n",
       "    .dataframe thead th {\n",
       "        text-align: right;\n",
       "    }\n",
       "</style>\n",
       "<table border=\"1\" class=\"dataframe\">\n",
       "  <thead>\n",
       "    <tr style=\"text-align: right;\">\n",
       "      <th></th>\n",
       "      <th>DATE</th>\n",
       "      <th>REVENUE</th>\n",
       "      <th>US</th>\n",
       "      <th>WORLD</th>\n",
       "      <th>ADVERTISING</th>\n",
       "      <th>ACTIVE USER</th>\n",
       "    </tr>\n",
       "  </thead>\n",
       "  <tbody>\n",
       "    <tr>\n",
       "      <th>0</th>\n",
       "      <td>1/1/2014</td>\n",
       "      <td>279</td>\n",
       "      <td>279</td>\n",
       "      <td>0</td>\n",
       "      <td>44</td>\n",
       "      <td>NaN</td>\n",
       "    </tr>\n",
       "    <tr>\n",
       "      <th>1</th>\n",
       "      <td>4/1/2014</td>\n",
       "      <td>295</td>\n",
       "      <td>295</td>\n",
       "      <td>0</td>\n",
       "      <td>43</td>\n",
       "      <td>NaN</td>\n",
       "    </tr>\n",
       "    <tr>\n",
       "      <th>2</th>\n",
       "      <td>7/1/2014</td>\n",
       "      <td>336</td>\n",
       "      <td>336</td>\n",
       "      <td>0</td>\n",
       "      <td>50</td>\n",
       "      <td>NaN</td>\n",
       "    </tr>\n",
       "    <tr>\n",
       "      <th>3</th>\n",
       "      <td>10/1/2014</td>\n",
       "      <td>409</td>\n",
       "      <td>409</td>\n",
       "      <td>0</td>\n",
       "      <td>55</td>\n",
       "      <td>NaN</td>\n",
       "    </tr>\n",
       "    <tr>\n",
       "      <th>4</th>\n",
       "      <td>1/1/2015</td>\n",
       "      <td>424</td>\n",
       "      <td>424</td>\n",
       "      <td>0</td>\n",
       "      <td>58</td>\n",
       "      <td>NaN</td>\n",
       "    </tr>\n",
       "    <tr>\n",
       "      <th>...</th>\n",
       "      <td>...</td>\n",
       "      <td>...</td>\n",
       "      <td>...</td>\n",
       "      <td>...</td>\n",
       "      <td>...</td>\n",
       "      <td>...</td>\n",
       "    </tr>\n",
       "    <tr>\n",
       "      <th>27</th>\n",
       "      <td>10/1/2020</td>\n",
       "      <td>3671</td>\n",
       "      <td>2999</td>\n",
       "      <td>672</td>\n",
       "      <td>374</td>\n",
       "      <td>31.2</td>\n",
       "    </tr>\n",
       "    <tr>\n",
       "      <th>28</th>\n",
       "      <td>1/1/2021</td>\n",
       "      <td>3478</td>\n",
       "      <td>2821</td>\n",
       "      <td>657</td>\n",
       "      <td>366</td>\n",
       "      <td>33.2</td>\n",
       "    </tr>\n",
       "    <tr>\n",
       "      <th>29</th>\n",
       "      <td>4/1/2021</td>\n",
       "      <td>3858</td>\n",
       "      <td>3098</td>\n",
       "      <td>760</td>\n",
       "      <td>352</td>\n",
       "      <td>31.1</td>\n",
       "    </tr>\n",
       "    <tr>\n",
       "      <th>30</th>\n",
       "      <td>7/1/2021</td>\n",
       "      <td>3121</td>\n",
       "      <td>2595</td>\n",
       "      <td>526</td>\n",
       "      <td>315</td>\n",
       "      <td>29.2</td>\n",
       "    </tr>\n",
       "    <tr>\n",
       "      <th>31</th>\n",
       "      <td>10/1/2021</td>\n",
       "      <td>3252</td>\n",
       "      <td>2735</td>\n",
       "      <td>517</td>\n",
       "      <td>345</td>\n",
       "      <td>27.3</td>\n",
       "    </tr>\n",
       "  </tbody>\n",
       "</table>\n",
       "<p>32 rows × 6 columns</p>\n",
       "</div>"
      ],
      "text/plain": [
       "         DATE  REVENUE    US  WORLD  ADVERTISING  ACTIVE USER\n",
       "0    1/1/2014      279   279      0           44          NaN\n",
       "1    4/1/2014      295   295      0           43          NaN\n",
       "2    7/1/2014      336   336      0           50          NaN\n",
       "3   10/1/2014      409   409      0           55          NaN\n",
       "4    1/1/2015      424   424      0           58          NaN\n",
       "..        ...      ...   ...    ...          ...          ...\n",
       "27  10/1/2020     3671  2999    672          374         31.2\n",
       "28   1/1/2021     3478  2821    657          366         33.2\n",
       "29   4/1/2021     3858  3098    760          352         31.1\n",
       "30   7/1/2021     3121  2595    526          315         29.2\n",
       "31  10/1/2021     3252  2735    517          345         27.3\n",
       "\n",
       "[32 rows x 6 columns]"
      ]
     },
     "execution_count": 6,
     "metadata": {},
     "output_type": "execute_result"
    }
   ],
   "source": [
    "# Reload the dataframe\n",
    "wayfair_quarterly_data = pd.read_csv('Wayfair_quarterly_report.csv')\n",
    "wayfair_quarterly_data"
   ]
  },
  {
   "cell_type": "code",
   "execution_count": 7,
   "metadata": {},
   "outputs": [
    {
     "data": {
      "text/plain": [
       "ACTIVE USER    12\n",
       "dtype: int64"
      ]
     },
     "execution_count": 7,
     "metadata": {},
     "output_type": "execute_result"
    }
   ],
   "source": [
    "# Test number of NaN\n",
    "wayfair_quarterly_data[['ACTIVE USER']].isnull().sum()"
   ]
  },
  {
   "cell_type": "code",
   "execution_count": 8,
   "metadata": {},
   "outputs": [],
   "source": [
    "# Make a new dataframe for work\n",
    "df = wayfair_quarterly_data\n",
    "df = df.drop(columns = ['DATE'])"
   ]
  },
  {
   "cell_type": "code",
   "execution_count": 9,
   "metadata": {},
   "outputs": [],
   "source": [
    "# Get only the NaN Active user for the test data\n",
    "test_data_user = df[df['ACTIVE USER'].isnull()]"
   ]
  },
  {
   "cell_type": "code",
   "execution_count": 10,
   "metadata": {},
   "outputs": [],
   "source": [
    "# Remove NaN for the train data\n",
    "df.dropna(inplace= True)"
   ]
  },
  {
   "cell_type": "code",
   "execution_count": 11,
   "metadata": {},
   "outputs": [],
   "source": [
    "x_train_user = df.drop('ACTIVE USER',axis = 1)\n",
    "# x_train_user (without active user)"
   ]
  },
  {
   "cell_type": "code",
   "execution_count": 12,
   "metadata": {},
   "outputs": [],
   "source": [
    "y_train_user = df['ACTIVE USER']\n",
    "# y_train_user (only active user)"
   ]
  },
  {
   "cell_type": "code",
   "execution_count": 13,
   "metadata": {},
   "outputs": [
    {
     "data": {
      "text/plain": [
       "LinearRegression()"
      ]
     },
     "execution_count": 13,
     "metadata": {},
     "output_type": "execute_result"
    }
   ],
   "source": [
    "# Import Linear regression model from Sklearn\n",
    "# Build regression model for active user\n",
    "LR = LinearRegression()\n",
    "LR.fit(x_train_user,y_train_user)"
   ]
  },
  {
   "cell_type": "code",
   "execution_count": 14,
   "metadata": {},
   "outputs": [],
   "source": [
    "x_test_user = test_data_user[['REVENUE','US','WORLD','ADVERTISING']]"
   ]
  },
  {
   "cell_type": "code",
   "execution_count": 15,
   "metadata": {},
   "outputs": [
    {
     "data": {
      "text/plain": [
       "array([3.8, 3.8, 3.9, 3.8, 3.9, 3.8, 3.8, 3.9, 5.9, 6.1, 6.9, 8.1])"
      ]
     },
     "execution_count": 15,
     "metadata": {},
     "output_type": "execute_result"
    }
   ],
   "source": [
    "y_pred_user = LR.predict(x_test_user)#Prediction\n",
    "y_pred_user = np.around(y_pred_user, decimals=1)#round up\n",
    "y_pred_user"
   ]
  },
  {
   "cell_type": "code",
   "execution_count": 16,
   "metadata": {},
   "outputs": [
    {
     "data": {
      "image/png": "[encoded data removed]",
      "text/plain": [
       "<Figure size 864x720 with 1 Axes>"
      ]
     },
     "metadata": {
      "needs_background": "light"
     },
     "output_type": "display_data"
    }
   ],
   "source": [
    "# Vistualize how the data of active user improved by comparing the mean method and linear regression method\n",
    "\n",
    "plt.figure(figsize=(12,10))\n",
    "# data to be plotted\n",
    "d = pd.to_datetime(wayfair_quarterly_data.DATE)\n",
    "x = np.array(d, ndmin= 2).T\n",
    "y = wayfair_quarterly_data[['ACTIVE USER']]\n",
    "y = np.array(y, ndmin =2)\n",
    " \n",
    "# plotting\n",
    "plt.title(\"Active user trend from 2014 to 2021\")\n",
    "plt.xlabel(\"Years\")\n",
    "plt.ylabel(\"Active User Number\")\n",
    "plt.plot(x, y, color= 'darkmagenta',linewidth=4)\n",
    "plt.show()"
   ]
  },
  {
   "cell_type": "markdown",
   "metadata": {},
   "source": [
    "As shown above, finally, we get a reasonable data for active user."
   ]
  },
  {
   "cell_type": "markdown",
   "metadata": {},
   "source": [
    "## 2.1.4 Substitute back\n",
    "Finally, we will replace the NaN data with the predicted data from previous part"
   ]
  },
  {
   "cell_type": "code",
   "execution_count": 17,
   "metadata": {},
   "outputs": [
    {
     "data": {
      "text/html": [
       "<div>\n",
       "<style scoped>\n",
       "    .dataframe tbody tr th:only-of-type {\n",
       "        vertical-align: middle;\n",
       "    }\n",
       "\n",
       "    .dataframe tbody tr th {\n",
       "        vertical-align: top;\n",
       "    }\n",
       "\n",
       "    .dataframe thead th {\n",
       "        text-align: right;\n",
       "    }\n",
       "</style>\n",
       "<table border=\"1\" class=\"dataframe\">\n",
       "  <thead>\n",
       "    <tr style=\"text-align: right;\">\n",
       "      <th></th>\n",
       "      <th>DATE</th>\n",
       "      <th>REVENUE</th>\n",
       "      <th>US</th>\n",
       "      <th>WORLD</th>\n",
       "      <th>ADVERTISING</th>\n",
       "      <th>ACTIVE USER</th>\n",
       "    </tr>\n",
       "  </thead>\n",
       "  <tbody>\n",
       "    <tr>\n",
       "      <th>0</th>\n",
       "      <td>1/1/2014</td>\n",
       "      <td>279</td>\n",
       "      <td>279</td>\n",
       "      <td>0</td>\n",
       "      <td>44</td>\n",
       "      <td>change</td>\n",
       "    </tr>\n",
       "    <tr>\n",
       "      <th>1</th>\n",
       "      <td>4/1/2014</td>\n",
       "      <td>295</td>\n",
       "      <td>295</td>\n",
       "      <td>0</td>\n",
       "      <td>43</td>\n",
       "      <td>change</td>\n",
       "    </tr>\n",
       "    <tr>\n",
       "      <th>2</th>\n",
       "      <td>7/1/2014</td>\n",
       "      <td>336</td>\n",
       "      <td>336</td>\n",
       "      <td>0</td>\n",
       "      <td>50</td>\n",
       "      <td>change</td>\n",
       "    </tr>\n",
       "    <tr>\n",
       "      <th>3</th>\n",
       "      <td>10/1/2014</td>\n",
       "      <td>409</td>\n",
       "      <td>409</td>\n",
       "      <td>0</td>\n",
       "      <td>55</td>\n",
       "      <td>change</td>\n",
       "    </tr>\n",
       "    <tr>\n",
       "      <th>4</th>\n",
       "      <td>1/1/2015</td>\n",
       "      <td>424</td>\n",
       "      <td>424</td>\n",
       "      <td>0</td>\n",
       "      <td>58</td>\n",
       "      <td>change</td>\n",
       "    </tr>\n",
       "    <tr>\n",
       "      <th>...</th>\n",
       "      <td>...</td>\n",
       "      <td>...</td>\n",
       "      <td>...</td>\n",
       "      <td>...</td>\n",
       "      <td>...</td>\n",
       "      <td>...</td>\n",
       "    </tr>\n",
       "    <tr>\n",
       "      <th>27</th>\n",
       "      <td>10/1/2020</td>\n",
       "      <td>3671</td>\n",
       "      <td>2999</td>\n",
       "      <td>672</td>\n",
       "      <td>374</td>\n",
       "      <td>31.2</td>\n",
       "    </tr>\n",
       "    <tr>\n",
       "      <th>28</th>\n",
       "      <td>1/1/2021</td>\n",
       "      <td>3478</td>\n",
       "      <td>2821</td>\n",
       "      <td>657</td>\n",
       "      <td>366</td>\n",
       "      <td>33.2</td>\n",
       "    </tr>\n",
       "    <tr>\n",
       "      <th>29</th>\n",
       "      <td>4/1/2021</td>\n",
       "      <td>3858</td>\n",
       "      <td>3098</td>\n",
       "      <td>760</td>\n",
       "      <td>352</td>\n",
       "      <td>31.1</td>\n",
       "    </tr>\n",
       "    <tr>\n",
       "      <th>30</th>\n",
       "      <td>7/1/2021</td>\n",
       "      <td>3121</td>\n",
       "      <td>2595</td>\n",
       "      <td>526</td>\n",
       "      <td>315</td>\n",
       "      <td>29.2</td>\n",
       "    </tr>\n",
       "    <tr>\n",
       "      <th>31</th>\n",
       "      <td>10/1/2021</td>\n",
       "      <td>3252</td>\n",
       "      <td>2735</td>\n",
       "      <td>517</td>\n",
       "      <td>345</td>\n",
       "      <td>27.3</td>\n",
       "    </tr>\n",
       "  </tbody>\n",
       "</table>\n",
       "<p>32 rows × 6 columns</p>\n",
       "</div>"
      ],
      "text/plain": [
       "         DATE  REVENUE    US  WORLD  ADVERTISING ACTIVE USER\n",
       "0    1/1/2014      279   279      0           44      change\n",
       "1    4/1/2014      295   295      0           43      change\n",
       "2    7/1/2014      336   336      0           50      change\n",
       "3   10/1/2014      409   409      0           55      change\n",
       "4    1/1/2015      424   424      0           58      change\n",
       "..        ...      ...   ...    ...          ...         ...\n",
       "27  10/1/2020     3671  2999    672          374        31.2\n",
       "28   1/1/2021     3478  2821    657          366        33.2\n",
       "29   4/1/2021     3858  3098    760          352        31.1\n",
       "30   7/1/2021     3121  2595    526          315        29.2\n",
       "31  10/1/2021     3252  2735    517          345        27.3\n",
       "\n",
       "[32 rows x 6 columns]"
      ]
     },
     "execution_count": 17,
     "metadata": {},
     "output_type": "execute_result"
    }
   ],
   "source": [
    "# NaN are difficult to manipulate so we want to substitute something unique for future use\n",
    "wayfair_quarterly_data[['ACTIVE USER']] = wayfair_quarterly_data[['ACTIVE USER']].fillna('change')\n",
    "# The word \"change\" does not appear other part\n",
    "wayfair_quarterly_data"
   ]
  },
  {
   "cell_type": "code",
   "execution_count": 18,
   "metadata": {},
   "outputs": [],
   "source": [
    "# Create an array for replacing the \"change\" part\n",
    "arr = wayfair_quarterly_data.to_numpy()"
   ]
  },
  {
   "cell_type": "code",
   "execution_count": 19,
   "metadata": {},
   "outputs": [],
   "source": [
    "for i in range(12):\n",
    "    if arr[i][5] == \"change\": # [5] to fix the active user\n",
    "           arr[i][5] = y_pred_user[i]  #replace"
   ]
  },
  {
   "cell_type": "code",
   "execution_count": 20,
   "metadata": {},
   "outputs": [
    {
     "data": {
      "text/html": [
       "<div>\n",
       "<style scoped>\n",
       "    .dataframe tbody tr th:only-of-type {\n",
       "        vertical-align: middle;\n",
       "    }\n",
       "\n",
       "    .dataframe tbody tr th {\n",
       "        vertical-align: top;\n",
       "    }\n",
       "\n",
       "    .dataframe thead th {\n",
       "        text-align: right;\n",
       "    }\n",
       "</style>\n",
       "<table border=\"1\" class=\"dataframe\">\n",
       "  <thead>\n",
       "    <tr style=\"text-align: right;\">\n",
       "      <th></th>\n",
       "      <th>DATE</th>\n",
       "      <th>REVENUE</th>\n",
       "      <th>US</th>\n",
       "      <th>WORLD</th>\n",
       "      <th>ADVERTISING</th>\n",
       "      <th>ACTIVE USER</th>\n",
       "    </tr>\n",
       "  </thead>\n",
       "  <tbody>\n",
       "    <tr>\n",
       "      <th>0</th>\n",
       "      <td>1/1/2014</td>\n",
       "      <td>279</td>\n",
       "      <td>279</td>\n",
       "      <td>0</td>\n",
       "      <td>44</td>\n",
       "      <td>3.8</td>\n",
       "    </tr>\n",
       "    <tr>\n",
       "      <th>1</th>\n",
       "      <td>4/1/2014</td>\n",
       "      <td>295</td>\n",
       "      <td>295</td>\n",
       "      <td>0</td>\n",
       "      <td>43</td>\n",
       "      <td>3.8</td>\n",
       "    </tr>\n",
       "    <tr>\n",
       "      <th>2</th>\n",
       "      <td>7/1/2014</td>\n",
       "      <td>336</td>\n",
       "      <td>336</td>\n",
       "      <td>0</td>\n",
       "      <td>50</td>\n",
       "      <td>3.9</td>\n",
       "    </tr>\n",
       "    <tr>\n",
       "      <th>3</th>\n",
       "      <td>10/1/2014</td>\n",
       "      <td>409</td>\n",
       "      <td>409</td>\n",
       "      <td>0</td>\n",
       "      <td>55</td>\n",
       "      <td>3.8</td>\n",
       "    </tr>\n",
       "    <tr>\n",
       "      <th>4</th>\n",
       "      <td>1/1/2015</td>\n",
       "      <td>424</td>\n",
       "      <td>424</td>\n",
       "      <td>0</td>\n",
       "      <td>58</td>\n",
       "      <td>3.9</td>\n",
       "    </tr>\n",
       "    <tr>\n",
       "      <th>...</th>\n",
       "      <td>...</td>\n",
       "      <td>...</td>\n",
       "      <td>...</td>\n",
       "      <td>...</td>\n",
       "      <td>...</td>\n",
       "      <td>...</td>\n",
       "    </tr>\n",
       "    <tr>\n",
       "      <th>27</th>\n",
       "      <td>10/1/2020</td>\n",
       "      <td>3671</td>\n",
       "      <td>2999</td>\n",
       "      <td>672</td>\n",
       "      <td>374</td>\n",
       "      <td>31.2</td>\n",
       "    </tr>\n",
       "    <tr>\n",
       "      <th>28</th>\n",
       "      <td>1/1/2021</td>\n",
       "      <td>3478</td>\n",
       "      <td>2821</td>\n",
       "      <td>657</td>\n",
       "      <td>366</td>\n",
       "      <td>33.2</td>\n",
       "    </tr>\n",
       "    <tr>\n",
       "      <th>29</th>\n",
       "      <td>4/1/2021</td>\n",
       "      <td>3858</td>\n",
       "      <td>3098</td>\n",
       "      <td>760</td>\n",
       "      <td>352</td>\n",
       "      <td>31.1</td>\n",
       "    </tr>\n",
       "    <tr>\n",
       "      <th>30</th>\n",
       "      <td>7/1/2021</td>\n",
       "      <td>3121</td>\n",
       "      <td>2595</td>\n",
       "      <td>526</td>\n",
       "      <td>315</td>\n",
       "      <td>29.2</td>\n",
       "    </tr>\n",
       "    <tr>\n",
       "      <th>31</th>\n",
       "      <td>10/1/2021</td>\n",
       "      <td>3252</td>\n",
       "      <td>2735</td>\n",
       "      <td>517</td>\n",
       "      <td>345</td>\n",
       "      <td>27.3</td>\n",
       "    </tr>\n",
       "  </tbody>\n",
       "</table>\n",
       "<p>32 rows × 6 columns</p>\n",
       "</div>"
      ],
      "text/plain": [
       "         DATE REVENUE    US WORLD ADVERTISING ACTIVE USER\n",
       "0    1/1/2014     279   279     0          44         3.8\n",
       "1    4/1/2014     295   295     0          43         3.8\n",
       "2    7/1/2014     336   336     0          50         3.9\n",
       "3   10/1/2014     409   409     0          55         3.8\n",
       "4    1/1/2015     424   424     0          58         3.9\n",
       "..        ...     ...   ...   ...         ...         ...\n",
       "27  10/1/2020    3671  2999   672         374        31.2\n",
       "28   1/1/2021    3478  2821   657         366        33.2\n",
       "29   4/1/2021    3858  3098   760         352        31.1\n",
       "30   7/1/2021    3121  2595   526         315        29.2\n",
       "31  10/1/2021    3252  2735   517         345        27.3\n",
       "\n",
       "[32 rows x 6 columns]"
      ]
     },
     "execution_count": 20,
     "metadata": {},
     "output_type": "execute_result"
    }
   ],
   "source": [
    "# Substitute back\n",
    "wayfair_quarterly_data = pd.DataFrame(arr,columns = ['DATE','REVENUE','US','WORLD','ADVERTISING','ACTIVE USER'])\n",
    "wayfair_quarterly_data "
   ]
  },
  {
   "cell_type": "markdown",
   "metadata": {},
   "source": [
    "Now, the Wayfair internal factor dataset is ready for use."
   ]
  },
  {
   "cell_type": "markdown",
   "metadata": {},
   "source": [
    "## 2.2 Wayfair External indicators \n",
    "Then, we input the wayfair external indicators. <br/>\n",
    "The data are downloaded to csv from below links and combined together.\n",
    "\n",
    "Home_ownership:https://fred.stlouisfed.org/series/RHORUSQ156N  <br/>\n",
    "E_commerce_retail:https://fred.stlouisfed.org/series/ECOMSA  <br/>\n",
    "E_commerce_retail_percent:https://fred.stlouisfed.org/series/ECOMPCTSA <br/>\n",
    "Unemployment: https://fred.stlouisfed.org/series/UNRATE <br/>\n",
    "Furniture_retail: https://www.statista.com/statistics/523473/furniture-retail-sales-value-quarterly-index-in-great-britain/ <br/>\n",
    "Interest rate: https://fred.stlouisfed.org/series/INTDSRUSM193N <br/>"
   ]
  },
  {
   "cell_type": "code",
   "execution_count": 21,
   "metadata": {},
   "outputs": [
    {
     "data": {
      "text/html": [
       "<div>\n",
       "<style scoped>\n",
       "    .dataframe tbody tr th:only-of-type {\n",
       "        vertical-align: middle;\n",
       "    }\n",
       "\n",
       "    .dataframe tbody tr th {\n",
       "        vertical-align: top;\n",
       "    }\n",
       "\n",
       "    .dataframe thead th {\n",
       "        text-align: right;\n",
       "    }\n",
       "</style>\n",
       "<table border=\"1\" class=\"dataframe\">\n",
       "  <thead>\n",
       "    <tr style=\"text-align: right;\">\n",
       "      <th></th>\n",
       "      <th>Date</th>\n",
       "      <th>PCE</th>\n",
       "      <th>Home_ownership</th>\n",
       "      <th>GDP</th>\n",
       "      <th>GDP_INDEX</th>\n",
       "      <th>GDP_real_INDEX</th>\n",
       "      <th>E_commerce_retail</th>\n",
       "      <th>E_commerce_retail_percent</th>\n",
       "      <th>Unemployment</th>\n",
       "      <th>Furniture_retail</th>\n",
       "      <th>Interest_rate</th>\n",
       "    </tr>\n",
       "  </thead>\n",
       "  <tbody>\n",
       "    <tr>\n",
       "      <th>0</th>\n",
       "      <td>1/1/2014</td>\n",
       "      <td>1.6</td>\n",
       "      <td>64.8</td>\n",
       "      <td>4203940</td>\n",
       "      <td>103.106</td>\n",
       "      <td>100.394</td>\n",
       "      <td>70305</td>\n",
       "      <td>6.2</td>\n",
       "      <td>6.6</td>\n",
       "      <td>24173</td>\n",
       "      <td>0.07</td>\n",
       "    </tr>\n",
       "    <tr>\n",
       "      <th>1</th>\n",
       "      <td>4/1/2014</td>\n",
       "      <td>1.9</td>\n",
       "      <td>64.7</td>\n",
       "      <td>4360754</td>\n",
       "      <td>103.865</td>\n",
       "      <td>103.218</td>\n",
       "      <td>73329</td>\n",
       "      <td>6.3</td>\n",
       "      <td>6.2</td>\n",
       "      <td>25082</td>\n",
       "      <td>0.09</td>\n",
       "    </tr>\n",
       "    <tr>\n",
       "      <th>2</th>\n",
       "      <td>7/1/2014</td>\n",
       "      <td>1.9</td>\n",
       "      <td>64.4</td>\n",
       "      <td>4454942</td>\n",
       "      <td>104.000</td>\n",
       "      <td>105.507</td>\n",
       "      <td>75729</td>\n",
       "      <td>6.5</td>\n",
       "      <td>6.2</td>\n",
       "      <td>25339</td>\n",
       "      <td>0.09</td>\n",
       "    </tr>\n",
       "    <tr>\n",
       "      <th>3</th>\n",
       "      <td>10/1/2014</td>\n",
       "      <td>1.1</td>\n",
       "      <td>64.0</td>\n",
       "      <td>4531052</td>\n",
       "      <td>103.678</td>\n",
       "      <td>107.568</td>\n",
       "      <td>77649</td>\n",
       "      <td>6.6</td>\n",
       "      <td>5.7</td>\n",
       "      <td>25800</td>\n",
       "      <td>0.09</td>\n",
       "    </tr>\n",
       "    <tr>\n",
       "      <th>4</th>\n",
       "      <td>1/1/2015</td>\n",
       "      <td>-0.5</td>\n",
       "      <td>63.7</td>\n",
       "      <td>4389973</td>\n",
       "      <td>104.093</td>\n",
       "      <td>103.668</td>\n",
       "      <td>80228</td>\n",
       "      <td>6.9</td>\n",
       "      <td>5.7</td>\n",
       "      <td>25948</td>\n",
       "      <td>0.11</td>\n",
       "    </tr>\n",
       "    <tr>\n",
       "      <th>...</th>\n",
       "      <td>...</td>\n",
       "      <td>...</td>\n",
       "      <td>...</td>\n",
       "      <td>...</td>\n",
       "      <td>...</td>\n",
       "      <td>...</td>\n",
       "      <td>...</td>\n",
       "      <td>...</td>\n",
       "      <td>...</td>\n",
       "      <td>...</td>\n",
       "      <td>...</td>\n",
       "    </tr>\n",
       "    <tr>\n",
       "      <th>28</th>\n",
       "      <td>1/1/2021</td>\n",
       "      <td>1.5</td>\n",
       "      <td>65.6</td>\n",
       "      <td>5367754</td>\n",
       "      <td>115.920</td>\n",
       "      <td>113.974</td>\n",
       "      <td>215290</td>\n",
       "      <td>13.6</td>\n",
       "      <td>6.3</td>\n",
       "      <td>35983</td>\n",
       "      <td>0.09</td>\n",
       "    </tr>\n",
       "    <tr>\n",
       "      <th>29</th>\n",
       "      <td>4/1/2021</td>\n",
       "      <td>3.8</td>\n",
       "      <td>65.4</td>\n",
       "      <td>5711844</td>\n",
       "      <td>117.939</td>\n",
       "      <td>119.164</td>\n",
       "      <td>221951</td>\n",
       "      <td>13.3</td>\n",
       "      <td>6.1</td>\n",
       "      <td>36930</td>\n",
       "      <td>0.07</td>\n",
       "    </tr>\n",
       "    <tr>\n",
       "      <th>30</th>\n",
       "      <td>7/1/2021</td>\n",
       "      <td>6.5</td>\n",
       "      <td>65.4</td>\n",
       "      <td>5822816</td>\n",
       "      <td>119.400</td>\n",
       "      <td>120.122</td>\n",
       "      <td>214932</td>\n",
       "      <td>13.0</td>\n",
       "      <td>5.4</td>\n",
       "      <td>36411</td>\n",
       "      <td>0.10</td>\n",
       "    </tr>\n",
       "    <tr>\n",
       "      <th>31</th>\n",
       "      <td>10/1/2021</td>\n",
       "      <td>5.3</td>\n",
       "      <td>65.5</td>\n",
       "      <td>6121436</td>\n",
       "      <td>121.070</td>\n",
       "      <td>124.645</td>\n",
       "      <td>218533</td>\n",
       "      <td>12.9</td>\n",
       "      <td>4.6</td>\n",
       "      <td>36516</td>\n",
       "      <td>0.08</td>\n",
       "    </tr>\n",
       "    <tr>\n",
       "      <th>32</th>\n",
       "      <td>1/1/2022</td>\n",
       "      <td>6.3</td>\n",
       "      <td>65.5</td>\n",
       "      <td>6158164</td>\n",
       "      <td>122.430</td>\n",
       "      <td>125.390</td>\n",
       "      <td>219844</td>\n",
       "      <td>12.9</td>\n",
       "      <td>4.0</td>\n",
       "      <td>38073</td>\n",
       "      <td>0.08</td>\n",
       "    </tr>\n",
       "  </tbody>\n",
       "</table>\n",
       "<p>33 rows × 11 columns</p>\n",
       "</div>"
      ],
      "text/plain": [
       "         Date  PCE  Home_ownership      GDP  GDP_INDEX  GDP_real_INDEX  \\\n",
       "0    1/1/2014  1.6            64.8  4203940    103.106         100.394   \n",
       "1    4/1/2014  1.9            64.7  4360754    103.865         103.218   \n",
       "2    7/1/2014  1.9            64.4  4454942    104.000         105.507   \n",
       "3   10/1/2014  1.1            64.0  4531052    103.678         107.568   \n",
       "4    1/1/2015 -0.5            63.7  4389973    104.093         103.668   \n",
       "..        ...  ...             ...      ...        ...             ...   \n",
       "28   1/1/2021  1.5            65.6  5367754    115.920         113.974   \n",
       "29   4/1/2021  3.8            65.4  5711844    117.939         119.164   \n",
       "30   7/1/2021  6.5            65.4  5822816    119.400         120.122   \n",
       "31  10/1/2021  5.3            65.5  6121436    121.070         124.645   \n",
       "32   1/1/2022  6.3            65.5  6158164    122.430         125.390   \n",
       "\n",
       "    E_commerce_retail  E_commerce_retail_percent  Unemployment  \\\n",
       "0               70305                        6.2           6.6   \n",
       "1               73329                        6.3           6.2   \n",
       "2               75729                        6.5           6.2   \n",
       "3               77649                        6.6           5.7   \n",
       "4               80228                        6.9           5.7   \n",
       "..                ...                        ...           ...   \n",
       "28             215290                       13.6           6.3   \n",
       "29             221951                       13.3           6.1   \n",
       "30             214932                       13.0           5.4   \n",
       "31             218533                       12.9           4.6   \n",
       "32             219844                       12.9           4.0   \n",
       "\n",
       "    Furniture_retail  Interest_rate  \n",
       "0              24173           0.07  \n",
       "1              25082           0.09  \n",
       "2              25339           0.09  \n",
       "3              25800           0.09  \n",
       "4              25948           0.11  \n",
       "..               ...            ...  \n",
       "28             35983           0.09  \n",
       "29             36930           0.07  \n",
       "30             36411           0.10  \n",
       "31             36516           0.08  \n",
       "32             38073           0.08  \n",
       "\n",
       "[33 rows x 11 columns]"
      ]
     },
     "execution_count": 21,
     "metadata": {},
     "output_type": "execute_result"
    }
   ],
   "source": [
    "# Importing data from csv\n",
    "external_indicators = pd.read_csv('external_indicators.csv') #read the external factors\n",
    "external_indicators"
   ]
  },
  {
   "cell_type": "markdown",
   "metadata": {},
   "source": [
    "For external indicators, we have 10 features, including PCE, Home_ownership, GDP, GPD index, GDP real index, E-Commerce retail sales, E-Commerce retail sales percentage, unemployment rate, furniture retail sales and interest rate."
   ]
  },
  {
   "cell_type": "markdown",
   "metadata": {},
   "source": [
    "## 2.3 Data Combination and Adjustment¶\n",
    "After getting the datasets, we combine data and correct data types. Also, we delete some data are not helpful."
   ]
  },
  {
   "cell_type": "code",
   "execution_count": 22,
   "metadata": {},
   "outputs": [],
   "source": [
    "# Combine and delete some data we feel unsituable\n",
    "data_combine_i_e = wayfair_quarterly_data.merge(external_indicators, left_on='DATE', right_on='Date')\n",
    "data_combine_i_e_copy =data_combine_i_e"
   ]
  },
  {
   "cell_type": "code",
   "execution_count": 23,
   "metadata": {},
   "outputs": [
    {
     "data": {
      "image/png": "[encoded data removed]",
      "text/plain": [
       "<Figure size 864x720 with 2 Axes>"
      ]
     },
     "metadata": {
      "needs_background": "light"
     },
     "output_type": "display_data"
    }
   ],
   "source": [
    "# Visualize the correlation of GDP \n",
    "plt.figure(figsize=(12,10))\n",
    "plt.title(\"Correlations between all indicators\")\n",
    "corr = data_combine_i_e_copy.corr()\n",
    "#corr =data_combine_i_e.corr()\n",
    "sns.heatmap(corr,  annot= True);"
   ]
  },
  {
   "cell_type": "markdown",
   "metadata": {},
   "source": [
    "We can see from the plot that GDP, GDP_INDEX, GDP_real_INDEX are highly correlated (0.96).<br>\n",
    "Also, we observe that E_commerce_retial and E_commerce_retail_percent are highly correlated (0.97)."
   ]
  },
  {
   "cell_type": "code",
   "execution_count": 24,
   "metadata": {},
   "outputs": [
    {
     "data": {
      "text/plain": [
       "<matplotlib.legend.Legend at 0x7ff75f13c820>"
      ]
     },
     "execution_count": 24,
     "metadata": {},
     "output_type": "execute_result"
    },
    {
     "data": {
      "image/png": "[encoded data removed]",
      "text/plain": [
       "<Figure size 864x720 with 1 Axes>"
      ]
     },
     "metadata": {
      "needs_background": "light"
     },
     "output_type": "display_data"
    }
   ],
   "source": [
    "# Visualize the US Revenue when compare to the total revenue\n",
    "plt.figure(figsize=(12,10))\n",
    "Total_revenue = list(data_combine_i_e_copy.REVENUE)\n",
    "US_revenue = list(data_combine_i_e_copy.US)\n",
    "\n",
    "d = pd.to_datetime(data_combine_i_e_copy.Date)\n",
    "x = d\n",
    "\n",
    "#print(Total_revenue)\n",
    "#print(US_revenue)\n",
    "plt.title(\"US Revenue Proportion\")\n",
    "plt.xlabel(\"Year\")\n",
    "plt.ylabel(\"Revenue\")\n",
    "plt.bar(x,Total_revenue, color ='navy',label=' Total Revenue',width=40,align='edge')\n",
    "plt.bar(x,US_revenue, color ='lightcoral',label=' US Revenue',width=40,align='edge')\n",
    "plt.legend()\n"
   ]
  },
  {
   "cell_type": "markdown",
   "metadata": {},
   "source": [
    "As shown above, the US revenue cover most of the total revenue. "
   ]
  },
  {
   "cell_type": "code",
   "execution_count": 25,
   "metadata": {},
   "outputs": [
    {
     "data": {
      "image/png": "[encoded data removed]",
      "text/plain": [
       "<Figure size 864x720 with 1 Axes>"
      ]
     },
     "metadata": {
      "needs_background": "light"
     },
     "output_type": "display_data"
    }
   ],
   "source": [
    "#Visualize the trend of the Home_ownership\n",
    "plt.figure(figsize=(12,10))\n",
    "d = pd.to_datetime(data_combine_i_e_copy.Date)\n",
    "x = d\n",
    "y = data_combine_i_e_copy[['Home_ownership']]\n",
    "\n",
    "# plotting\n",
    "plt.title(\"Trend of Home Ownership from 2014 to 2021\")\n",
    "plt.xlabel(\"Year\")\n",
    "plt.ylabel(\"Home_pwnership data\")\n",
    "plt.ylim(0, 100)\n",
    "plt.plot(x,y, color ='darkmagenta',linewidth=4)\n",
    "plt.show()  "
   ]
  },
  {
   "cell_type": "markdown",
   "metadata": {},
   "source": [
    "Over the years, the home ownership's trend is relatively stable with little fluctuation."
   ]
  },
  {
   "cell_type": "code",
   "execution_count": 26,
   "metadata": {},
   "outputs": [
    {
     "data": {
      "text/plain": [
       "(         DATE  REVENUE  ACTIVE USER  ADVERTISING  Furniture_retail  \\\n",
       " 0    1/1/2014      279          3.8         44.0             24173   \n",
       " 1    4/1/2014      295          3.8         43.0             25082   \n",
       " 2    7/1/2014      336          3.9         50.0             25339   \n",
       " 3   10/1/2014      409          3.8         55.0             25800   \n",
       " 4    1/1/2015      424          3.9         58.0             25948   \n",
       " ..        ...      ...          ...          ...               ...   \n",
       " 27  10/1/2020     3671         31.2        374.0             32190   \n",
       " 28   1/1/2021     3478         33.2        366.0             35983   \n",
       " 29   4/1/2021     3858         31.1        352.0             36930   \n",
       " 30   7/1/2021     3121         29.2        315.0             36411   \n",
       " 31  10/1/2021     3252         27.3        345.0             36516   \n",
       " \n",
       "     GDP_real_INDEX  E_commerce_retail_percent  Unemployment  Interest_rate  \n",
       " 0          100.394                        6.2           6.6           0.07  \n",
       " 1          103.218                        6.3           6.2           0.09  \n",
       " 2          105.507                        6.5           6.2           0.09  \n",
       " 3          107.568                        6.6           5.7           0.09  \n",
       " 4          103.668                        6.9           5.7           0.11  \n",
       " ..             ...                        ...           ...            ...  \n",
       " 27         118.290                       13.6           6.9           0.09  \n",
       " 28         113.974                       13.6           6.3           0.09  \n",
       " 29         119.164                       13.3           6.1           0.07  \n",
       " 30         120.122                       13.0           5.4           0.10  \n",
       " 31         124.645                       12.9           4.6           0.08  \n",
       " \n",
       " [32 rows x 9 columns],\n",
       " DATE                          object\n",
       " REVENUE                        int64\n",
       " ACTIVE USER                  float64\n",
       " ADVERTISING                  float64\n",
       " Furniture_retail               int64\n",
       " GDP_real_INDEX               float64\n",
       " E_commerce_retail_percent    float64\n",
       " Unemployment                 float64\n",
       " Interest_rate                float64\n",
       " dtype: object)"
      ]
     },
     "execution_count": 26,
     "metadata": {},
     "output_type": "execute_result"
    }
   ],
   "source": [
    "#We make a new dataset by deleting the unwanted columns\n",
    "\n",
    "data_combine_i_e = data_combine_i_e.reindex(columns= ['DATE','REVENUE','ACTIVE USER','ADVERTISING', \n",
    "                                                      'Furniture_retail','GDP_real_INDEX', 'E_commerce_retail_percent', \n",
    "                                                      'Unemployment','Interest_rate'])\n",
    "# Since we use array to do data combine, the datatypes and no longer the same, so we change it back\n",
    "convert_dict = {'REVENUE': np.int64,\n",
    "                'ADVERTISING': float,\n",
    "                'ACTIVE USER' :float\n",
    "                } \n",
    "data_combine_i_e = data_combine_i_e.astype(convert_dict)\n",
    "data_combine_i_e,data_combine_i_e.dtypes\n"
   ]
  },
  {
   "cell_type": "code",
   "execution_count": 27,
   "metadata": {},
   "outputs": [],
   "source": [
    "# Make another dataframe that does not include date for future use\n",
    "data_all = data_combine_i_e.reindex(columns=['REVENUE','ACTIVE USER','ADVERTISING','E_commerce_retail_percent', 'Furniture_retail','GDP_real_INDEX' ,'Unemployment', 'Interest_rate'])\n",
    "#print(data_all.dtypes)\n",
    "#data_all"
   ]
  },
  {
   "cell_type": "markdown",
   "metadata": {},
   "source": [
    "Reasons for deleting data:\n",
    "1. GDP,GDP_INDEX because GDP, GDP_INDEX, GDP_real_INDEX are highly correlated, having GDP_real_INDEX is enough\n",
    "2. Delete 'E_commerce_retail' because they are highly correlated.\n",
    "3. Delete Home_ownership because it is overly stable which do not change a not making it a unsuitble indicator\n",
    "4. Delete US beacaue it dominant the model considering it is over 85% to 100% of the revenue\n",
    "5. Delete World because it has no income in the 8 data points would affect a lot.\n"
   ]
  },
  {
   "cell_type": "markdown",
   "metadata": {},
   "source": [
    "## 3. General Performance - Market (Cynthia)\n",
    "In this part we compare their current performance by comparing to the Furniture retial market.<br/>\n",
    "\"1\" means they are doing well compare the market, \"0\" means does not.\n"
   ]
  },
  {
   "cell_type": "code",
   "execution_count": 28,
   "metadata": {},
   "outputs": [
    {
     "data": {
      "text/plain": [
       "array([1., 1., 1., 1., 1., 1., 1., 1., 1., 1., 1., 0., 1., 1., 1., 0., 1.,\n",
       "       1., 1., 0., 1., 0., 1., 0., 1., 0., 0., 0., 1., 0., 1.])"
      ]
     },
     "execution_count": 28,
     "metadata": {},
     "output_type": "execute_result"
    }
   ],
   "source": [
    "temp = (data_all['REVENUE']/data_all['Furniture_retail']).apply(np.log)\n",
    "revenue_diff = []\n",
    "revenue_log = []\n",
    "for i in range(len(temp)-1):\n",
    "    if (temp.values[i+1] - temp.values[i] >= 0): \n",
    "        iflag = True\n",
    "    else:\n",
    "        iflag = False\n",
    "    revenue_log = np.append(revenue_log, iflag)\n",
    "    revenue_diff = np.append(revenue_diff, temp.values[i+1] - temp.values[i])\n",
    "revenue_log \n",
    "\n",
    "#add visualization"
   ]
  },
  {
   "cell_type": "code",
   "execution_count": 29,
   "metadata": {},
   "outputs": [
    {
     "data": {
      "image/png": "[encoded data removed]",
      "text/plain": [
       "<Figure size 864x720 with 1 Axes>"
      ]
     },
     "metadata": {
      "needs_background": "light"
     },
     "output_type": "display_data"
    }
   ],
   "source": [
    "#Visualize the general performance of market\n",
    "plt.figure(figsize=(12,10))\n",
    "# data to be plotted\n",
    "d = pd.to_datetime(wayfair_quarterly_data.DATE)\n",
    "x = np.array(d, ndmin= 2).T \n",
    "x =x[:31]\n",
    "y = np.array(y, ndmin =1)\n",
    "y = revenue_log \n",
    "\n",
    "# plotting\n",
    "plt.title(\"General performance of market\")\n",
    "plt.xlabel(\"Year\")\n",
    "plt.ylabel(\"Performance\")#1 indicate good \n",
    "plt.ylim(0, 1.3)\n",
    "plt.plot(x,y, color ='darkmagenta',linewidth=4)\n",
    "plt.show()  "
   ]
  },
  {
   "cell_type": "markdown",
   "metadata": {},
   "source": [
    "We can found that Wayfair's revenue was higher than the market at the first half of data. But there are unsatisfying performing in the current year."
   ]
  },
  {
   "cell_type": "markdown",
   "metadata": {},
   "source": [
    "# 4. Regression (Dedrick)"
   ]
  },
  {
   "cell_type": "markdown",
   "metadata": {},
   "source": [
    "We set \"Revenue\" as target feature, and then split the data into train and test set.  <br/>\n",
    "Then we use linear regression to do the prediction."
   ]
  },
  {
   "cell_type": "code",
   "execution_count": 30,
   "metadata": {},
   "outputs": [],
   "source": [
    "# Write down the list of features\n",
    "features = ['PCE', 'GDP_real_INDEX',\n",
    "         'E_commerce_retail_percent', 'Unemployment',\n",
    "         'Furniture_retail', 'Interest_rate']"
   ]
  },
  {
   "cell_type": "code",
   "execution_count": 31,
   "metadata": {},
   "outputs": [],
   "source": [
    "# Write down the target\n",
    "target = ['revenue']"
   ]
  },
  {
   "cell_type": "code",
   "execution_count": 32,
   "metadata": {},
   "outputs": [],
   "source": [
    "data_train = data_all.loc[0:29, :]\n",
    "#print(data_train)\n",
    "data_test = data_all.loc[30:, :]\n",
    "#print(data_test)\n",
    "X_train = data_train.drop('REVENUE', axis = 1)\n",
    "X_test = data_test.drop('REVENUE', axis = 1)\n",
    "Y_train = data_train['REVENUE']\n",
    "Y_test = data_test['REVENUE']\n",
    "#print(X_train)\n",
    "#print(X_test)\n",
    "#print(Y_train)\n",
    "#print(Y_test)"
   ]
  },
  {
   "cell_type": "code",
   "execution_count": 33,
   "metadata": {},
   "outputs": [],
   "source": [
    "# Import Linear regression model from Sklearn\n",
    "multi_model = linear_model.LinearRegression()"
   ]
  },
  {
   "cell_type": "code",
   "execution_count": 34,
   "metadata": {
    "scrolled": true
   },
   "outputs": [
    {
     "data": {
      "text/plain": [
       "LinearRegression()"
      ]
     },
     "execution_count": 34,
     "metadata": {},
     "output_type": "execute_result"
    }
   ],
   "source": [
    "# Train the model by using the first 30 quarters\n",
    "X0 = X_train.values\n",
    "Y0 = Y_train.values\n",
    "X0, Y0 = shuffle(X0, Y0)\n",
    "multi_model.fit(X0, Y0)"
   ]
  },
  {
   "cell_type": "code",
   "execution_count": 35,
   "metadata": {},
   "outputs": [
    {
     "data": {
      "text/plain": [
       "(-5019.624382270519,\n",
       " array([1.23952829e+01, 4.47425441e+00, 1.12972516e+02, 4.32241888e-02,\n",
       "        2.38867950e+01, 1.27243786e+02, 3.52736929e+01]))"
      ]
     },
     "execution_count": 35,
     "metadata": {},
     "output_type": "execute_result"
    }
   ],
   "source": [
    "# Get values of the intercept and coefficients for the model\n",
    "multi_model.intercept_, multi_model.coef_"
   ]
  },
  {
   "cell_type": "code",
   "execution_count": 36,
   "metadata": {},
   "outputs": [
    {
     "data": {
      "text/plain": [
       "(array([1974.35689845,  803.89279316, 2188.08146422, 1595.45739008,\n",
       "        3859.35514757,  580.87296534, 1112.5072036 , 1761.34694352,\n",
       "         717.76352492, 4294.6309087 , 1041.92093703, 3675.01818372,\n",
       "        1414.63594876, 1254.35190782, 1998.30319121,  500.81503101,\n",
       "         273.37989958,  707.79540408,  974.77682556, 1476.82084485,\n",
       "        2396.28191349,  394.78153987, 3648.52238373,  394.31920226,\n",
       "         432.28334044, 2250.94655994,  879.38703227,  210.00184593,\n",
       "        2580.68025353, 3664.71251537]),\n",
       " array([2014,  787, 2343, 1655, 3840,  594, 1123, 1706,  747, 4305,  985,\n",
       "        3671, 1404, 1198, 1945,  492,  295,  740,  961, 1439, 2305,  424,\n",
       "        3478,  336,  409, 2330,  862,  279, 2533, 3858]))"
      ]
     },
     "execution_count": 36,
     "metadata": {},
     "output_type": "execute_result"
    }
   ],
   "source": [
    "# Compare the predicted value of the training set after we train the model\n",
    "multi_model.predict(X0), Y0"
   ]
  },
  {
   "cell_type": "code",
   "execution_count": 37,
   "metadata": {},
   "outputs": [
    {
     "data": {
      "text/plain": [
       "0.9966683188711534"
      ]
     },
     "execution_count": 37,
     "metadata": {},
     "output_type": "execute_result"
    }
   ],
   "source": [
    "multi_model.score(X0,Y0)"
   ]
  },
  {
   "cell_type": "code",
   "execution_count": 38,
   "metadata": {},
   "outputs": [
    {
     "data": {
      "text/plain": [
       "(array([[2.92000e+01, 3.15000e+02, 1.30000e+01, 3.64110e+04, 1.20122e+02,\n",
       "         5.40000e+00, 1.00000e-01],\n",
       "        [2.73000e+01, 3.45000e+02, 1.29000e+01, 3.65160e+04, 1.24645e+02,\n",
       "         4.60000e+00, 8.00000e-02]]),\n",
       " array([3121, 3252]))"
      ]
     },
     "execution_count": 38,
     "metadata": {},
     "output_type": "execute_result"
    }
   ],
   "source": [
    "# Now use the last two quarters for test\n",
    "X1 = X_test.values\n",
    "Y1 = Y_test.values\n",
    "X1, Y1"
   ]
  },
  {
   "cell_type": "code",
   "execution_count": 39,
   "metadata": {},
   "outputs": [
    {
     "data": {
      "text/plain": [
       "(array([3354.16006657, 3463.6174213 ]), array([3121, 3252]))"
      ]
     },
     "execution_count": 39,
     "metadata": {},
     "output_type": "execute_result"
    }
   ],
   "source": [
    "# Make prediction for the test set and compare third quarter and fourth quarter\n",
    "multi_model.predict(X1), Y1"
   ]
  },
  {
   "cell_type": "markdown",
   "metadata": {},
   "source": [
    "We found that the actual performance is worse than predicted values."
   ]
  },
  {
   "cell_type": "markdown",
   "metadata": {},
   "source": [
    "# 5. Best features - What affect most (Dedrick)\n",
    "We use all_subset to select features;<br/>\n",
    "Seperate numerical and categorical features to reorder the dataset columns;<br/>\n",
    "Use greedy algorithm to find the best features."
   ]
  },
  {
   "cell_type": "code",
   "execution_count": 40,
   "metadata": {},
   "outputs": [],
   "source": [
    "def all_subsets(my_list):\n",
    "    subs = []\n",
    "    for i in range(1, 4):\n",
    "        subs += combinations(my_list, i)\n",
    "    subset_List = []\n",
    "    for i in subs:\n",
    "            subset_List += [list(i)]\n",
    "    return subset_List"
   ]
  },
  {
   "cell_type": "code",
   "execution_count": 41,
   "metadata": {},
   "outputs": [],
   "source": [
    "def onehot_encoder(df, feature):\n",
    "    result = pd.DataFrame()\n",
    "    if feature in df.columns:\n",
    "        \n",
    "        result = pd.get_dummies(df, columns=[feature])\n",
    "        return result\n",
    "    else:\n",
    "        return print(\"Please select a feature in this df!\")"
   ]
  },
  {
   "cell_type": "code",
   "execution_count": 42,
   "metadata": {},
   "outputs": [],
   "source": [
    "# Seperate numerical and Categorial\n",
    "features_numerical = list(data_all.select_dtypes(['int64', 'float64']).columns)\n",
    "features_numerical.remove('REVENUE')\n",
    "#print(features_numerical)\n",
    "features_categorical = list(data_all.select_dtypes(['object']).columns)\n",
    "#print(features_categorical)\n",
    "features = features_categorical + features_numerical\n",
    "target = ['REVENUE']\n",
    "data = data_all[features_numerical + features_categorical + target]\n",
    "#data"
   ]
  },
  {
   "cell_type": "code",
   "execution_count": 43,
   "metadata": {},
   "outputs": [],
   "source": [
    "#use all_subsets to select the features\n",
    "features_sub = all_subsets(features)"
   ]
  },
  {
   "cell_type": "code",
   "execution_count": 44,
   "metadata": {},
   "outputs": [
    {
     "data": {
      "text/plain": [
       "63"
      ]
     },
     "execution_count": 44,
     "metadata": {},
     "output_type": "execute_result"
    }
   ],
   "source": [
    "len(features_sub)"
   ]
  },
  {
   "cell_type": "code",
   "execution_count": 45,
   "metadata": {},
   "outputs": [],
   "source": [
    "#split data to train and test \n",
    "train_valid, test = train_test_split(data, test_size = 0.2, random_state = 20220303)\n",
    "train_valid = train_valid.reset_index(drop = True)\n",
    "test = test.reset_index(drop = True)"
   ]
  },
  {
   "cell_type": "code",
   "execution_count": 46,
   "metadata": {},
   "outputs": [
    {
     "data": {
      "text/html": [
       "<div>\n",
       "<style scoped>\n",
       "    .dataframe tbody tr th:only-of-type {\n",
       "        vertical-align: middle;\n",
       "    }\n",
       "\n",
       "    .dataframe tbody tr th {\n",
       "        vertical-align: top;\n",
       "    }\n",
       "\n",
       "    .dataframe thead th {\n",
       "        text-align: right;\n",
       "    }\n",
       "</style>\n",
       "<table border=\"1\" class=\"dataframe\">\n",
       "  <thead>\n",
       "    <tr style=\"text-align: right;\">\n",
       "      <th></th>\n",
       "      <th>ACTIVE USER</th>\n",
       "      <th>ADVERTISING</th>\n",
       "      <th>E_commerce_retail_percent</th>\n",
       "      <th>Furniture_retail</th>\n",
       "      <th>GDP_real_INDEX</th>\n",
       "      <th>Unemployment</th>\n",
       "      <th>Interest_rate</th>\n",
       "      <th>REVENUE</th>\n",
       "    </tr>\n",
       "  </thead>\n",
       "  <tbody>\n",
       "    <tr>\n",
       "      <th>0</th>\n",
       "      <td>3.9</td>\n",
       "      <td>50.0</td>\n",
       "      <td>6.5</td>\n",
       "      <td>25339</td>\n",
       "      <td>105.507</td>\n",
       "      <td>6.2</td>\n",
       "      <td>0.09</td>\n",
       "      <td>336</td>\n",
       "    </tr>\n",
       "    <tr>\n",
       "      <th>1</th>\n",
       "      <td>17.8</td>\n",
       "      <td>259.0</td>\n",
       "      <td>10.5</td>\n",
       "      <td>30218</td>\n",
       "      <td>116.903</td>\n",
       "      <td>3.6</td>\n",
       "      <td>2.42</td>\n",
       "      <td>2343</td>\n",
       "    </tr>\n",
       "    <tr>\n",
       "      <th>2</th>\n",
       "      <td>33.2</td>\n",
       "      <td>366.0</td>\n",
       "      <td>13.6</td>\n",
       "      <td>35983</td>\n",
       "      <td>113.974</td>\n",
       "      <td>6.3</td>\n",
       "      <td>0.09</td>\n",
       "      <td>3478</td>\n",
       "    </tr>\n",
       "    <tr>\n",
       "      <th>3</th>\n",
       "      <td>8.9</td>\n",
       "      <td>118.0</td>\n",
       "      <td>8.4</td>\n",
       "      <td>28573</td>\n",
       "      <td>106.801</td>\n",
       "      <td>4.7</td>\n",
       "      <td>0.65</td>\n",
       "      <td>961</td>\n",
       "    </tr>\n",
       "    <tr>\n",
       "      <th>4</th>\n",
       "      <td>8.1</td>\n",
       "      <td>116.0</td>\n",
       "      <td>8.2</td>\n",
       "      <td>28046</td>\n",
       "      <td>111.605</td>\n",
       "      <td>4.9</td>\n",
       "      <td>0.40</td>\n",
       "      <td>985</td>\n",
       "    </tr>\n",
       "    <tr>\n",
       "      <th>5</th>\n",
       "      <td>31.1</td>\n",
       "      <td>352.0</td>\n",
       "      <td>13.3</td>\n",
       "      <td>36930</td>\n",
       "      <td>119.164</td>\n",
       "      <td>6.1</td>\n",
       "      <td>0.07</td>\n",
       "      <td>3858</td>\n",
       "    </tr>\n",
       "    <tr>\n",
       "      <th>6</th>\n",
       "      <td>3.9</td>\n",
       "      <td>58.0</td>\n",
       "      <td>6.9</td>\n",
       "      <td>25948</td>\n",
       "      <td>103.668</td>\n",
       "      <td>5.7</td>\n",
       "      <td>0.11</td>\n",
       "      <td>424</td>\n",
       "    </tr>\n",
       "    <tr>\n",
       "      <th>7</th>\n",
       "      <td>20.3</td>\n",
       "      <td>311.0</td>\n",
       "      <td>11.0</td>\n",
       "      <td>30329</td>\n",
       "      <td>120.607</td>\n",
       "      <td>3.6</td>\n",
       "      <td>1.83</td>\n",
       "      <td>2533</td>\n",
       "    </tr>\n",
       "    <tr>\n",
       "      <th>8</th>\n",
       "      <td>21.1</td>\n",
       "      <td>276.0</td>\n",
       "      <td>11.4</td>\n",
       "      <td>29156</td>\n",
       "      <td>113.588</td>\n",
       "      <td>3.6</td>\n",
       "      <td>1.55</td>\n",
       "      <td>2330</td>\n",
       "    </tr>\n",
       "    <tr>\n",
       "      <th>9</th>\n",
       "      <td>3.8</td>\n",
       "      <td>43.0</td>\n",
       "      <td>6.3</td>\n",
       "      <td>25082</td>\n",
       "      <td>103.218</td>\n",
       "      <td>6.2</td>\n",
       "      <td>0.09</td>\n",
       "      <td>295</td>\n",
       "    </tr>\n",
       "    <tr>\n",
       "      <th>10</th>\n",
       "      <td>15.2</td>\n",
       "      <td>232.0</td>\n",
       "      <td>9.9</td>\n",
       "      <td>29708</td>\n",
       "      <td>117.397</td>\n",
       "      <td>3.8</td>\n",
       "      <td>2.19</td>\n",
       "      <td>2014</td>\n",
       "    </tr>\n",
       "    <tr>\n",
       "      <th>11</th>\n",
       "      <td>3.8</td>\n",
       "      <td>44.0</td>\n",
       "      <td>6.2</td>\n",
       "      <td>24173</td>\n",
       "      <td>100.394</td>\n",
       "      <td>6.6</td>\n",
       "      <td>0.07</td>\n",
       "      <td>279</td>\n",
       "    </tr>\n",
       "    <tr>\n",
       "      <th>12</th>\n",
       "      <td>10.3</td>\n",
       "      <td>142.0</td>\n",
       "      <td>8.9</td>\n",
       "      <td>28626</td>\n",
       "      <td>112.215</td>\n",
       "      <td>4.3</td>\n",
       "      <td>1.15</td>\n",
       "      <td>1198</td>\n",
       "    </tr>\n",
       "    <tr>\n",
       "      <th>13</th>\n",
       "      <td>5.9</td>\n",
       "      <td>98.0</td>\n",
       "      <td>7.7</td>\n",
       "      <td>27752</td>\n",
       "      <td>105.533</td>\n",
       "      <td>4.9</td>\n",
       "      <td>0.34</td>\n",
       "      <td>747</td>\n",
       "    </tr>\n",
       "    <tr>\n",
       "      <th>14</th>\n",
       "      <td>16.4</td>\n",
       "      <td>244.0</td>\n",
       "      <td>10.2</td>\n",
       "      <td>29657</td>\n",
       "      <td>112.827</td>\n",
       "      <td>4.0</td>\n",
       "      <td>2.40</td>\n",
       "      <td>1945</td>\n",
       "    </tr>\n",
       "    <tr>\n",
       "      <th>15</th>\n",
       "      <td>13.9</td>\n",
       "      <td>203.0</td>\n",
       "      <td>9.7</td>\n",
       "      <td>29709</td>\n",
       "      <td>115.411</td>\n",
       "      <td>3.9</td>\n",
       "      <td>1.91</td>\n",
       "      <td>1706</td>\n",
       "    </tr>\n",
       "    <tr>\n",
       "      <th>16</th>\n",
       "      <td>26.0</td>\n",
       "      <td>418.0</td>\n",
       "      <td>15.7</td>\n",
       "      <td>21613</td>\n",
       "      <td>105.870</td>\n",
       "      <td>14.8</td>\n",
       "      <td>0.05</td>\n",
       "      <td>4305</td>\n",
       "    </tr>\n",
       "    <tr>\n",
       "      <th>17</th>\n",
       "      <td>3.9</td>\n",
       "      <td>88.0</td>\n",
       "      <td>7.4</td>\n",
       "      <td>27675</td>\n",
       "      <td>109.377</td>\n",
       "      <td>5.0</td>\n",
       "      <td>0.12</td>\n",
       "      <td>740</td>\n",
       "    </tr>\n",
       "    <tr>\n",
       "      <th>18</th>\n",
       "      <td>3.8</td>\n",
       "      <td>55.0</td>\n",
       "      <td>6.6</td>\n",
       "      <td>25800</td>\n",
       "      <td>107.568</td>\n",
       "      <td>5.7</td>\n",
       "      <td>0.09</td>\n",
       "      <td>409</td>\n",
       "    </tr>\n",
       "    <tr>\n",
       "      <th>19</th>\n",
       "      <td>12.8</td>\n",
       "      <td>178.0</td>\n",
       "      <td>9.5</td>\n",
       "      <td>30058</td>\n",
       "      <td>114.359</td>\n",
       "      <td>3.9</td>\n",
       "      <td>1.69</td>\n",
       "      <td>1655</td>\n",
       "    </tr>\n",
       "    <tr>\n",
       "      <th>20</th>\n",
       "      <td>6.1</td>\n",
       "      <td>94.0</td>\n",
       "      <td>7.8</td>\n",
       "      <td>27903</td>\n",
       "      <td>108.461</td>\n",
       "      <td>5.0</td>\n",
       "      <td>0.37</td>\n",
       "      <td>787</td>\n",
       "    </tr>\n",
       "    <tr>\n",
       "      <th>21</th>\n",
       "      <td>3.8</td>\n",
       "      <td>71.0</td>\n",
       "      <td>7.2</td>\n",
       "      <td>27195</td>\n",
       "      <td>108.034</td>\n",
       "      <td>5.2</td>\n",
       "      <td>0.13</td>\n",
       "      <td>594</td>\n",
       "    </tr>\n",
       "    <tr>\n",
       "      <th>22</th>\n",
       "      <td>28.8</td>\n",
       "      <td>344.0</td>\n",
       "      <td>13.8</td>\n",
       "      <td>32001</td>\n",
       "      <td>114.689</td>\n",
       "      <td>10.2</td>\n",
       "      <td>0.09</td>\n",
       "      <td>3840</td>\n",
       "    </tr>\n",
       "    <tr>\n",
       "      <th>23</th>\n",
       "      <td>3.8</td>\n",
       "      <td>62.0</td>\n",
       "      <td>7.0</td>\n",
       "      <td>26851</td>\n",
       "      <td>106.886</td>\n",
       "      <td>5.4</td>\n",
       "      <td>0.12</td>\n",
       "      <td>492</td>\n",
       "    </tr>\n",
       "    <tr>\n",
       "      <th>24</th>\n",
       "      <td>9.5</td>\n",
       "      <td>124.0</td>\n",
       "      <td>8.7</td>\n",
       "      <td>28511</td>\n",
       "      <td>111.054</td>\n",
       "      <td>4.4</td>\n",
       "      <td>0.90</td>\n",
       "      <td>1123</td>\n",
       "    </tr>\n",
       "  </tbody>\n",
       "</table>\n",
       "</div>"
      ],
      "text/plain": [
       "    ACTIVE USER  ADVERTISING  E_commerce_retail_percent  Furniture_retail  \\\n",
       "0           3.9         50.0                        6.5             25339   \n",
       "1          17.8        259.0                       10.5             30218   \n",
       "2          33.2        366.0                       13.6             35983   \n",
       "3           8.9        118.0                        8.4             28573   \n",
       "4           8.1        116.0                        8.2             28046   \n",
       "5          31.1        352.0                       13.3             36930   \n",
       "6           3.9         58.0                        6.9             25948   \n",
       "7          20.3        311.0                       11.0             30329   \n",
       "8          21.1        276.0                       11.4             29156   \n",
       "9           3.8         43.0                        6.3             25082   \n",
       "10         15.2        232.0                        9.9             29708   \n",
       "11          3.8         44.0                        6.2             24173   \n",
       "12         10.3        142.0                        8.9             28626   \n",
       "13          5.9         98.0                        7.7             27752   \n",
       "14         16.4        244.0                       10.2             29657   \n",
       "15         13.9        203.0                        9.7             29709   \n",
       "16         26.0        418.0                       15.7             21613   \n",
       "17          3.9         88.0                        7.4             27675   \n",
       "18          3.8         55.0                        6.6             25800   \n",
       "19         12.8        178.0                        9.5             30058   \n",
       "20          6.1         94.0                        7.8             27903   \n",
       "21          3.8         71.0                        7.2             27195   \n",
       "22         28.8        344.0                       13.8             32001   \n",
       "23          3.8         62.0                        7.0             26851   \n",
       "24          9.5        124.0                        8.7             28511   \n",
       "\n",
       "    GDP_real_INDEX  Unemployment  Interest_rate  REVENUE  \n",
       "0          105.507           6.2           0.09      336  \n",
       "1          116.903           3.6           2.42     2343  \n",
       "2          113.974           6.3           0.09     3478  \n",
       "3          106.801           4.7           0.65      961  \n",
       "4          111.605           4.9           0.40      985  \n",
       "5          119.164           6.1           0.07     3858  \n",
       "6          103.668           5.7           0.11      424  \n",
       "7          120.607           3.6           1.83     2533  \n",
       "8          113.588           3.6           1.55     2330  \n",
       "9          103.218           6.2           0.09      295  \n",
       "10         117.397           3.8           2.19     2014  \n",
       "11         100.394           6.6           0.07      279  \n",
       "12         112.215           4.3           1.15     1198  \n",
       "13         105.533           4.9           0.34      747  \n",
       "14         112.827           4.0           2.40     1945  \n",
       "15         115.411           3.9           1.91     1706  \n",
       "16         105.870          14.8           0.05     4305  \n",
       "17         109.377           5.0           0.12      740  \n",
       "18         107.568           5.7           0.09      409  \n",
       "19         114.359           3.9           1.69     1655  \n",
       "20         108.461           5.0           0.37      787  \n",
       "21         108.034           5.2           0.13      594  \n",
       "22         114.689          10.2           0.09     3840  \n",
       "23         106.886           5.4           0.12      492  \n",
       "24         111.054           4.4           0.90     1123  "
      ]
     },
     "execution_count": 46,
     "metadata": {},
     "output_type": "execute_result"
    }
   ],
   "source": [
    "train_valid"
   ]
  },
  {
   "cell_type": "code",
   "execution_count": 47,
   "metadata": {},
   "outputs": [],
   "source": [
    "def kfold_cv(data, target, n):\n",
    "\n",
    "    MSE = np.array([]) \n",
    "\n",
    "    kf = KFold(n_splits = n, random_state=0, shuffle = True)\n",
    "    \n",
    "    for train_index, validation_index in kf.split(data):\n",
    "\n",
    "        train, valid = data.loc[train_index,:], data.loc[validation_index,:]\n",
    "\n",
    "        X_train = train.drop(target, axis = 1)\n",
    "        Y_train = train[target]        \n",
    "        X_valid = valid.drop(target, axis = 1)\n",
    "        Y_valid = valid[target]\n",
    "\n",
    "        model = linear_model.LinearRegression()\n",
    "\n",
    "        model.fit(X_train,Y_train)\n",
    "\n",
    "        Y_valid_fit = model.predict(X_valid)\n",
    "   \n",
    "        MSE_temp = mean_squared_error(Y_valid_fit, Y_valid)\n",
    "     \n",
    "        MSE = np.append(MSE, MSE_temp)\n",
    "        \n",
    "    return MSE.mean()"
   ]
  },
  {
   "cell_type": "code",
   "execution_count": 48,
   "metadata": {},
   "outputs": [],
   "source": [
    "def greedy_algo(features, features_categorical):\n",
    "    greedy_select = []\n",
    "    MSE_greedy_algo = np.array([])\n",
    "\n",
    "    for i in range(len(features)):\n",
    "        MSE = np.array([])\n",
    "        features_left = list(set(features) - set(greedy_select))\n",
    "        \n",
    "        for new in features_left:\n",
    "            features_new = greedy_select + [new]\n",
    "            train_valid_sub = train_valid[features_new + target]\n",
    "\n",
    "            categorical_sub = list(set(features_new) & set(features_categorical))\n",
    "\n",
    "            if len(categorical_sub) != 0:\n",
    "                for i in categorical_sub:\n",
    "                    train_valid_sub = onehot_encoder(train_valid_sub, i)   \n",
    "\n",
    "            MSE_sub = kfold_cv(train_valid_sub, 'REVENUE', 5)\n",
    "            MSE = np.append(MSE, MSE_sub)\n",
    "            \n",
    "        greedy_select += [features_left[MSE.argmin()]]\n",
    "        MSE_greedy_algo = np.append(MSE_greedy_algo, MSE.min()) \n",
    "\n",
    "    features_greedy = greedy_select[:(MSE_greedy_algo.argmin()+1)]\n",
    "    return features_greedy"
   ]
  },
  {
   "cell_type": "code",
   "execution_count": null,
   "metadata": {},
   "outputs": [],
   "source": [
    "features_greedy_list = []\n",
    "for i in range(len(features_sub)):\n",
    "    features_greedy = greedy_algo(features_sub[i], features_categorical)\n",
    "    features_greedy_list.append(features_greedy)"
   ]
  },
  {
   "cell_type": "code",
   "execution_count": null,
   "metadata": {},
   "outputs": [],
   "source": [
    "#features_greedy_list\n",
    "MSE_list = np.array([])\n",
    "RSE_list = np.array([])\n",
    "for i in range(len(features_greedy_list)):\n",
    "    data_greedy = data[features_greedy_list[i] + target]\n",
    "    categorical_cv = list(set(features_greedy_list[i]) & set(features_categorical))\n",
    "    if len(categorical_cv) != 0:\n",
    "        for i in categorical_cv:\n",
    "            data_greedy = onehot_encoder(data_greedy, i)\n",
    "    train_valid_greedy_sub, test_greedy_sub = train_test_split(data_greedy, test_size = 0.2, random_state = 0)   \n",
    "    model_greedy = linear_model.LinearRegression()\n",
    "\n",
    "    X_greedy = train_valid_greedy_sub.drop(target, axis = 1)\n",
    "    Y_greedy = train_valid_greedy_sub[target]\n",
    "\n",
    "    model_greedy.fit(X_greedy, Y_greedy)\n",
    "\n",
    "    Y_train_greedy_fit = model_greedy.predict(X_greedy)\n",
    "    \n",
    "    MSE_list = np.append(MSE_list, mean_squared_error(Y_greedy, Y_train_greedy_fit))\n",
    "    RSE_list = np.append(RSE_list, np.sqrt(mean_squared_error(Y_greedy, Y_train_greedy_fit)))"
   ]
  },
  {
   "cell_type": "code",
   "execution_count": null,
   "metadata": {},
   "outputs": [],
   "source": [
    "MSE_list"
   ]
  },
  {
   "cell_type": "code",
   "execution_count": null,
   "metadata": {},
   "outputs": [],
   "source": [
    "RSE_list"
   ]
  },
  {
   "cell_type": "code",
   "execution_count": null,
   "metadata": {},
   "outputs": [],
   "source": [
    "MSE_list.argmin(), RSE_list.argmin()\n",
    "# Which is pretty low"
   ]
  },
  {
   "cell_type": "code",
   "execution_count": null,
   "metadata": {
    "scrolled": true
   },
   "outputs": [],
   "source": [
    "best_features = features_greedy_list[MSE_list.argmin()]\n",
    "best_features"
   ]
  },
  {
   "cell_type": "code",
   "execution_count": null,
   "metadata": {},
   "outputs": [],
   "source": [
    "X = data_all['ADVERTISING'].values.reshape(-1,1)\n",
    "y = data_all['REVENUE'].values\n",
    "\n",
    "#Train \n",
    "model = multi_model.fit(X, y)\n",
    "response = model.predict(X)\n",
    "\n",
    "#Evaluate"
   ]
  },
  {
   "cell_type": "code",
   "execution_count": null,
   "metadata": {},
   "outputs": [],
   "source": [
    "r2 = model.score(X, y)\n",
    "\n",
    "# Plot \n",
    "plt.style.use('default')\n",
    "plt.style.use('ggplot')\n",
    "\n",
    "fig, ax = plt.subplots(figsize=(8, 4))\n",
    "\n",
    "ax.plot(X, response, color='k', label='Regression model')\n",
    "ax.scatter(X, y, edgecolor='k', facecolor='grey', alpha=0.7, label='Sample data')\n",
    "ax.set_ylabel('Revenue', fontsize=14)\n",
    "ax.set_xlabel('Advertising cost', fontsize=14)\n",
    "ax.text(0.8, 0.1, 'aegis4048.github.io', fontsize=13, ha='center', va='center',\n",
    "         transform=ax.transAxes, color='grey', alpha=0.5)\n",
    "ax.legend(facecolor='white', fontsize=11)\n",
    "ax.set_title('$R^2= %.2f$' % r2, fontsize=18)\n",
    "\n",
    "fig.tight_layout()"
   ]
  },
  {
   "cell_type": "markdown",
   "metadata": {},
   "source": [
    "'Advertising', 'Unemployment',  'Furniture_retail' are the best features\n",
    "<br/> We believe it is because the other feature are more important, hence we do not consider the active user.\n",
    "<br/>Advertising is the only thing the company can change."
   ]
  },
  {
   "cell_type": "markdown",
   "metadata": {},
   "source": [
    "# 6. Google Trend  (Cynthia)\n",
    "To find the trendy products in Wayfair and add more advertisment on them, we find the key words from google trend, and use regression to find what key words is or are the most match with Wayfair's performance. "
   ]
  },
  {
   "cell_type": "markdown",
   "metadata": {},
   "source": [
    "## 6.1 Data Input\n",
    "Firstly, we download data from google trend and convert them into quarterly data, then combine all key words. "
   ]
  },
  {
   "cell_type": "code",
   "execution_count": null,
   "metadata": {},
   "outputs": [],
   "source": [
    "def getdata(csv):\n",
    "    \n",
    "    #Save the name of key words from name of csv file\n",
    "    name = csv[0:-4]\n",
    "    #print(name)\n",
    "    \n",
    "    #Read the csv\n",
    "    df = pd.read_csv(csv)\n",
    "    #df = df.rename(columns={'Category: All categories': name})\n",
    "    \n",
    "    #Delete problematic row\n",
    "    if 'Month' in df.index:\n",
    "        df.drop(index = 'Month', inplace=True)\n",
    "    \n",
    "    #Change data type of searching number to integer    \n",
    "    df = df.astype('int')\n",
    "\n",
    "    #Transform index to datatime with format 'YYY-MM-DD'\n",
    "    #index = df.index\n",
    "    df = df.reset_index()\n",
    "    df.columns = ['Date', name]\n",
    "    df.Date = pd.to_datetime(df.Date)\n",
    "    df.set_index('Date', inplace=True)\n",
    "    \n",
    "    #Convert monthly data to quarterly data\n",
    "    df = df.resample('QS').sum()\n",
    "    \n",
    "    return df "
   ]
  },
  {
   "cell_type": "code",
   "execution_count": null,
   "metadata": {},
   "outputs": [],
   "source": [
    "# Get all dataframes\n",
    "# Google trend search word\n",
    "df1 = getdata('Furniture.csv') #Refer to Wayfair Furniture\n",
    "df2 = getdata('Wayfair_US.csv') \n",
    "df3 = getdata('Kitchen.csv')#Refer to Wayfair Kitchen\n",
    "df4 = getdata('Wayfair bedding.csv')\n",
    "df5 = getdata('Wayfair indoor furniture.csv')\n",
    "df6 = getdata('Wayfair lighting.csv')\n",
    "df7 = getdata('Wayfair outdoor furniture.csv')\n",
    "df8 = getdata('Wayfair pillow.csv')\n",
    "df9 = getdata('Wayfair rugs.csv')\n",
    "df10 = getdata('Wayfair_World.csv')\n"
   ]
  },
  {
   "cell_type": "code",
   "execution_count": null,
   "metadata": {},
   "outputs": [],
   "source": [
    "# Make a list for all dataframes\n",
    "dfs=[df1,df2,df3,df4,df5,df6,df7,df8,df9,df10]\n",
    "nan_value = 0\n",
    "\n",
    "# Combine them together\n",
    "data = pd.concat(dfs, join='outer', axis=1).fillna(nan_value)\n",
    "#data.drop(df.columns = [])\n",
    "#data = data.loc[:,~data.columns.duplicated()].copy()\n",
    "data.reset_index(inplace=True)\n",
    "data"
   ]
  },
  {
   "cell_type": "markdown",
   "metadata": {},
   "source": [
    "## 6.2 LogisticRegression\n",
    "We use logistic regression to predict the data. <br/>\n",
    "Then we calculate the score of the regression model for different key words."
   ]
  },
  {
   "cell_type": "code",
   "execution_count": null,
   "metadata": {},
   "outputs": [],
   "source": [
    "# Get the logistic regression model from Sklearn\n",
    "logisticReg = linear_model.LogisticRegression()"
   ]
  },
  {
   "cell_type": "code",
   "execution_count": null,
   "metadata": {},
   "outputs": [],
   "source": [
    "#adjust the data type\n",
    "data_combine_i_e.DATE.astype('datetime64[ns]')\n",
    "data.Date.astype('datetime64[ns]')"
   ]
  },
  {
   "cell_type": "code",
   "execution_count": null,
   "metadata": {},
   "outputs": [],
   "source": [
    "#combine datasets and drop the useless row\n",
    "data_combine_all = pd.concat([data_combine_i_e, data],axis=1)\n",
    "data_combine_all= data_combine_all.drop([32])\n",
    "data_combine_all"
   ]
  },
  {
   "cell_type": "code",
   "execution_count": null,
   "metadata": {},
   "outputs": [],
   "source": [
    "# Logistic Regression\n",
    "temp_0 = data_combine_all['Wayfair_World']\n",
    "temp_1 = data_combine_all['Wayfair_US']\n",
    "temp_2 = data_combine_all['Furniture']\n",
    "temp_3 = data_combine_all['Kitchen']\n",
    "temp_4 = data_combine_all['Wayfair bedding']\n",
    "temp_5 = data_combine_all['Wayfair indoor furniture']\n",
    "temp_6 = data_combine_all['Wayfair lighting']\n",
    "temp_7 = data_combine_all['Wayfair outdoor furniture']\n",
    "temp_8 = data_combine_all['Wayfair pillow']\n",
    "temp_9 = data_combine_all['Wayfair rugs']\n",
    "\n",
    "trend_log_0 = []\n",
    "trend_log_1 = []\n",
    "trend_log_2 = []\n",
    "trend_log_3 = []\n",
    "trend_log_4 = []\n",
    "trend_log_5 = []\n",
    "trend_log_6 = []\n",
    "trend_log_7 = []\n",
    "trend_log_8 = []\n",
    "trend_log_9 = []\n",
    "\n",
    "for i in range(len(temp_0)-1):\n",
    "    trend_log_0 = np.append(trend_log_0, temp_0.values[i+1] - temp_0.values[i])\n",
    "    trend_log_1 = np.append(trend_log_1, temp_1.values[i+1] - temp_1.values[i])\n",
    "    trend_log_2 = np.append(trend_log_2, temp_2.values[i+1] - temp_2.values[i])\n",
    "    trend_log_3 = np.append(trend_log_3, temp_3.values[i+1] - temp_3.values[i])\n",
    "    trend_log_4 = np.append(trend_log_4, temp_4.values[i+1] - temp_4.values[i])\n",
    "    trend_log_5 = np.append(trend_log_5, temp_5.values[i+1] - temp_5.values[i])\n",
    "    trend_log_6 = np.append(trend_log_6, temp_6.values[i+1] - temp_6.values[i])\n",
    "    trend_log_7 = np.append(trend_log_7, temp_7.values[i+1] - temp_7.values[i])\n",
    "    trend_log_8 = np.append(trend_log_8, temp_8.values[i+1] - temp_8.values[i])\n",
    "    trend_log_9 = np.append(trend_log_9, temp_9.values[i+1] - temp_9.values[i])\n"
   ]
  },
  {
   "cell_type": "code",
   "execution_count": null,
   "metadata": {},
   "outputs": [],
   "source": [
    "all_trend = [trend_log_0,trend_log_1,trend_log_2,trend_log_3,trend_log_4,trend_log_5,trend_log_6,trend_log_7,trend_log_8,trend_log_9]\n",
    "\n",
    "for i in range(len(all_trend)):\n",
    "    trend = all_trend[i]\n",
    "    logisticReg.fit(trend.reshape(-1,1), revenue_log)\n",
    "    score = logisticReg.score(trend.reshape(-1,1), revenue_log)\n",
    "    print(\"For trend_log_\", i,\", the score is \",score,\".\")"
   ]
  },
  {
   "cell_type": "markdown",
   "metadata": {},
   "source": [
    "We can see from the printed results that trend_log_2 (Furniture) and trend_log_7 (Wayfair_outdoor furniture) have the highest score."
   ]
  },
  {
   "cell_type": "markdown",
   "metadata": {},
   "source": [
    "## 6.3 Accuracy\n",
    "We use logistic regression to predict the furniture and out door furniture have the highest score and then we plot its ROC curve to show the accuracy."
   ]
  },
  {
   "cell_type": "code",
   "execution_count": null,
   "metadata": {},
   "outputs": [],
   "source": [
    "X = logisticReg.predict(trend_log_2.reshape(-1,1))\n",
    "Y = revenue_log"
   ]
  },
  {
   "cell_type": "code",
   "execution_count": null,
   "metadata": {},
   "outputs": [],
   "source": [
    "fpr, tpr, thresholds = roc_curve(Y, logisticReg.predict_proba(trend_log_2.reshape(-1,1))[:,1])\n",
    "roc_auc = auc(fpr, tpr)\n",
    "\n",
    "plt.figure(dpi=100)\n",
    "plt.title('ROC Curve of Furniture ')\n",
    "plt.plot(fpr, tpr, 'b', label='ROC = %0.2f'% roc_auc)\n",
    "plt.plot([0,1],[0,1],'r--')\n",
    "plt.ylabel('True Positive Rate')\n",
    "plt.xlabel('False Positive Rate')\n",
    "plt.legend()\n",
    "plt.show()"
   ]
  },
  {
   "cell_type": "code",
   "execution_count": null,
   "metadata": {},
   "outputs": [],
   "source": [
    "fpr, tpr, thresholds = roc_curve(Y, logisticReg.predict_proba(trend_log_7.reshape(-1,1))[:,1])\n",
    "roc_auc = auc(fpr, tpr)\n",
    "\n",
    "plt.figure(dpi=100)\n",
    "plt.title('ROC Curve of Outdoor Furniture')\n",
    "plt.plot(fpr, tpr, 'b', label='ROC = %0.2f'% roc_auc)\n",
    "plt.plot([0,1],[0,1],'r--')\n",
    "plt.ylabel('True Positive Rate')\n",
    "plt.xlabel('False Positive Rate')\n",
    "plt.legend()\n",
    "plt.show()"
   ]
  },
  {
   "cell_type": "markdown",
   "metadata": {},
   "source": [
    "After testing with the ROC curve, we confirmed that furniture and outdoor furniture are the best performanced features because their score is lagre than 0.5."
   ]
  },
  {
   "cell_type": "markdown",
   "metadata": {},
   "source": [
    "# 7. Conclusions (Cynthia)"
   ]
  },
  {
   "cell_type": "markdown",
   "metadata": {},
   "source": [
    "<b>According to our modeling and analysis of the Wayfair internal and external data, we made some conclusions on Wayfair’s performance. <br><br>\n",
    "Firstly, Wayfair’s revenue performance has been decreasing in the furniture market in recent years, which can be concluded by the performance from 2014 to 2019. Since most e-commerce businesses have an increasing sales volume during covid, which is from 2020 but Wayfair performed in another trend, we think they can apply advanced strategies to improve their performance.  <br><br>\n",
    "Secondly, from regression modeling, we found that the 'ADVERTISING', 'Unemployment', 'Furniture_retail' are the best features. This means that the cost of advertising is one of the best features to predict revenue. So we suggest that Wayfair should put more effort into advertising. Also, unemployment is another best features, the reason for this may be that the employment rate decreased a lot during covid, where Wayfair also has a decreasing revenue. <br><br>\n",
    "Thirdly, as we know web search has a critical influence on e-commerce business, we have done an analysis of google trend data and found that some of the keywords have a high correlation with Wayfair’s revenue. So we would suggest that Wayfair put more emphasis on improving its exposure online to gain more customers and make more promotions on the furniture, which is with highest score from our analysis. </b>"
   ]
  }
 ],
 "metadata": {
  "interpreter": {
   "hash": "a3393348607f2e9dcdbb55046adc9bbed89bd0344ec2ec6ee82dfa9501c96c62"
  },
  "kernelspec": {
   "display_name": "Python 3",
   "language": "python",
   "name": "python3"
  },
  "language_info": {
   "codemirror_mode": {
    "name": "ipython",
    "version": 3
   },
   "file_extension": ".py",
   "mimetype": "text/x-python",
   "name": "python",
   "nbconvert_exporter": "python",
   "pygments_lexer": "ipython3",
   "version": "3.8.8"
  }
 },
 "nbformat": 4,
 "nbformat_minor": 2
}
